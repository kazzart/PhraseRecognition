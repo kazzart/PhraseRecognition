{
 "cells": [
  {
   "cell_type": "code",
   "execution_count": 1,
   "metadata": {},
   "outputs": [],
   "source": [
    "import tensorflow as tf\n",
    "import librosa\n",
    "import numpy as np\n",
    "import IPython.display as ipd\n",
    "import os\n",
    "import pandas as pd"
   ]
  },
  {
   "cell_type": "code",
   "execution_count": 2,
   "metadata": {},
   "outputs": [
    {
     "data": {
      "text/plain": [
       "(71, 20)"
      ]
     },
     "execution_count": 2,
     "metadata": {},
     "output_type": "execute_result"
    }
   ],
   "source": [
    "X_0 = []\n",
    "paths = librosa.util.find_files(r'orig\\Без шума\\Старт')\n",
    "for i in paths:\n",
    "    x, sr = librosa.load(i)\n",
    "    mfcc = librosa.feature.mfcc(y=x, sr=sr, hop_length=512, n_mfcc=20)\n",
    "    mfcc = np.mean(mfcc, axis=1)\n",
    "    X_0.append(mfcc)\n",
    "np.shape(X_0)"
   ]
  },
  {
   "cell_type": "code",
   "execution_count": 3,
   "metadata": {},
   "outputs": [],
   "source": [
    "y_0 = np.zeros(np.shape(X_0)[0])"
   ]
  },
  {
   "cell_type": "code",
   "execution_count": 11,
   "metadata": {},
   "outputs": [
    {
     "data": {
      "text/plain": [
       "(3359, 20)"
      ]
     },
     "execution_count": 11,
     "metadata": {},
     "output_type": "execute_result"
    }
   ],
   "source": [
    "X_1 = []\n",
    "voices_path = r'C:\\Users\\misai\\Программирование\\Проекты\\PhraseRecognition\\audiobooks\\data\\ru_open_stt\\private_buriy_audiobooks_2\\0'\n",
    "for path in os.listdir(voices_path):\n",
    "    paths = librosa.util.find_files(voices_path + '\\\\' + path)\n",
    "    for file in paths:\n",
    "        x, sr = librosa.load(file)\n",
    "        mfcc = librosa.feature.mfcc(y=x, sr=sr, hop_length=512, n_mfcc=20)\n",
    "        mfcc = np.mean(mfcc, axis=1)\n",
    "        X_1.append(mfcc)\n",
    "np.shape(X_1)"
   ]
  },
  {
   "cell_type": "code",
   "execution_count": 30,
   "metadata": {},
   "outputs": [],
   "source": [
    "y_1 = np.ones(3359)"
   ]
  },
  {
   "cell_type": "code",
   "execution_count": 14,
   "metadata": {},
   "outputs": [],
   "source": [
    "save = np.copy(X_1)"
   ]
  },
  {
   "cell_type": "code",
   "execution_count": 6,
   "metadata": {},
   "outputs": [],
   "source": [
    "columns = list('mfcc' + str(i) for i in range(1, 21))"
   ]
  },
  {
   "cell_type": "code",
   "execution_count": 7,
   "metadata": {},
   "outputs": [],
   "source": [
    "DF_0 = pd.DataFrame(X_0, columns=list('mfcc' + str(i) for i in range(1, 21)))"
   ]
  },
  {
   "cell_type": "code",
   "execution_count": 29,
   "metadata": {},
   "outputs": [],
   "source": [
    "DF_1 = pd.DataFrame(X_1, columns=list('mfcc' + str(i) for i in range(1, 21)))"
   ]
  },
  {
   "cell_type": "code",
   "execution_count": 8,
   "metadata": {},
   "outputs": [],
   "source": [
    "save_1 = pd.read_csv(r'C:\\Users\\misai\\Программирование\\Проекты\\PhraseRecognition\\DF_1.csv', index_col=0)"
   ]
  },
  {
   "cell_type": "code",
   "execution_count": 82,
   "metadata": {},
   "outputs": [
    {
     "data": {
      "text/plain": [
       "(3430, 20)"
      ]
     },
     "execution_count": 82,
     "metadata": {},
     "output_type": "execute_result"
    }
   ],
   "source": [
    "X = DF_0.append(save_1, ignore_index=True)\n",
    "X"
   ]
  },
  {
   "cell_type": "code",
   "execution_count": 31,
   "metadata": {},
   "outputs": [
    {
     "data": {
      "text/plain": [
       "array([0., 0., 0., ..., 1., 1., 1.])"
      ]
     },
     "execution_count": 31,
     "metadata": {},
     "output_type": "execute_result"
    }
   ],
   "source": [
    "y = np.append(y_0, y_1)\n",
    "y"
   ]
  },
  {
   "cell_type": "code",
   "execution_count": 69,
   "metadata": {},
   "outputs": [],
   "source": [
    "y = pd.DataFrame(y)"
   ]
  },
  {
   "cell_type": "code",
   "execution_count": 84,
   "metadata": {},
   "outputs": [
    {
     "data": {
      "text/html": [
       "<div>\n",
       "<style scoped>\n",
       "    .dataframe tbody tr th:only-of-type {\n",
       "        vertical-align: middle;\n",
       "    }\n",
       "\n",
       "    .dataframe tbody tr th {\n",
       "        vertical-align: top;\n",
       "    }\n",
       "\n",
       "    .dataframe thead th {\n",
       "        text-align: right;\n",
       "    }\n",
       "</style>\n",
       "<table border=\"1\" class=\"dataframe\">\n",
       "  <thead>\n",
       "    <tr style=\"text-align: right;\">\n",
       "      <th></th>\n",
       "      <th>0</th>\n",
       "    </tr>\n",
       "  </thead>\n",
       "  <tbody>\n",
       "    <tr>\n",
       "      <th>0</th>\n",
       "      <td>0.0</td>\n",
       "    </tr>\n",
       "    <tr>\n",
       "      <th>1</th>\n",
       "      <td>0.0</td>\n",
       "    </tr>\n",
       "    <tr>\n",
       "      <th>2</th>\n",
       "      <td>0.0</td>\n",
       "    </tr>\n",
       "    <tr>\n",
       "      <th>3</th>\n",
       "      <td>0.0</td>\n",
       "    </tr>\n",
       "    <tr>\n",
       "      <th>4</th>\n",
       "      <td>0.0</td>\n",
       "    </tr>\n",
       "    <tr>\n",
       "      <th>...</th>\n",
       "      <td>...</td>\n",
       "    </tr>\n",
       "    <tr>\n",
       "      <th>3425</th>\n",
       "      <td>1.0</td>\n",
       "    </tr>\n",
       "    <tr>\n",
       "      <th>3426</th>\n",
       "      <td>1.0</td>\n",
       "    </tr>\n",
       "    <tr>\n",
       "      <th>3427</th>\n",
       "      <td>1.0</td>\n",
       "    </tr>\n",
       "    <tr>\n",
       "      <th>3428</th>\n",
       "      <td>1.0</td>\n",
       "    </tr>\n",
       "    <tr>\n",
       "      <th>3429</th>\n",
       "      <td>1.0</td>\n",
       "    </tr>\n",
       "  </tbody>\n",
       "</table>\n",
       "<p>3430 rows × 1 columns</p>\n",
       "</div>"
      ],
      "text/plain": [
       "        0\n",
       "0     0.0\n",
       "1     0.0\n",
       "2     0.0\n",
       "3     0.0\n",
       "4     0.0\n",
       "...   ...\n",
       "3425  1.0\n",
       "3426  1.0\n",
       "3427  1.0\n",
       "3428  1.0\n",
       "3429  1.0\n",
       "\n",
       "[3430 rows x 1 columns]"
      ]
     },
     "execution_count": 84,
     "metadata": {},
     "output_type": "execute_result"
    }
   ],
   "source": [
    "y"
   ]
  },
  {
   "cell_type": "code",
   "execution_count": 62,
   "metadata": {},
   "outputs": [],
   "source": [
    "model = tf.keras.Sequential([\n",
    "    tf.keras.layers.Dense(20, activation='relu', input_shape=(20,)),\n",
    "    #tf.keras.layers.Dropout(0.5),\n",
    "    tf.keras.layers.Dense(40, activation='relu'),\n",
    "    #tf.keras.layers.Dropout(0.5),\n",
    "    tf.keras.layers.Dense(10, activation='relu'),\n",
    "    tf.keras.layers.Dense(2, activation='sigmoid'),\n",
    "])"
   ]
  },
  {
   "cell_type": "code",
   "execution_count": 63,
   "metadata": {},
   "outputs": [],
   "source": [
    "model.compile(loss='sparse_categorical_crossentropy',\n",
    "              optimizer='adam',\n",
    "              metrics=['accuracy'])"
   ]
  },
  {
   "cell_type": "code",
   "execution_count": 36,
   "metadata": {},
   "outputs": [],
   "source": [
    "dataset = tf.data.Dataset.from_tensor_slices((X.values, y.values))"
   ]
  },
  {
   "cell_type": "code",
   "execution_count": 37,
   "metadata": {},
   "outputs": [],
   "source": [
    "shuffled_dataset = dataset.shuffle(len(X)).batch(1)"
   ]
  },
  {
   "cell_type": "code",
   "execution_count": 38,
   "metadata": {},
   "outputs": [],
   "source": [
    "val_dataset = shuffled_dataset.take(1000) \n",
    "train_dataset = shuffled_dataset.skip(1000)"
   ]
  },
  {
   "cell_type": "code",
   "execution_count": 64,
   "metadata": {},
   "outputs": [
    {
     "name": "stdout",
     "output_type": "stream",
     "text": [
      "Epoch 1/10\n",
      "2430/2430 [==============================] - 8s 3ms/step - loss: 0.3317 - accuracy: 0.9794 - val_loss: 0.0000e+00 - val_accuracy: 0.0000e+00\n",
      "Epoch 2/10\n",
      "2430/2430 [==============================] - 4s 2ms/step - loss: 0.3318 - accuracy: 0.9794 - val_loss: 0.4030 - val_accuracy: 0.9750\n",
      "Epoch 3/10\n",
      "2430/2430 [==============================] - 4s 2ms/step - loss: 0.3384 - accuracy: 0.9790 - val_loss: 0.2579 - val_accuracy: 0.9840\n",
      "Epoch 4/10\n",
      "2430/2430 [==============================] - 5s 2ms/step - loss: 0.3384 - accuracy: 0.9790 - val_loss: 0.3385 - val_accuracy: 0.9790\n",
      "Epoch 5/10\n",
      "2430/2430 [==============================] - 5s 2ms/step - loss: 0.3052 - accuracy: 0.9811 - val_loss: 0.2579 - val_accuracy: 0.9840\n",
      "Epoch 6/10\n",
      "2430/2430 [==============================] - 5s 2ms/step - loss: 0.3185 - accuracy: 0.9802 - val_loss: 0.2740 - val_accuracy: 0.9830\n",
      "Epoch 7/10\n",
      "2430/2430 [==============================] - 5s 2ms/step - loss: 0.3384 - accuracy: 0.9790 - val_loss: 0.3224 - val_accuracy: 0.9800\n",
      "Epoch 8/10\n",
      "2430/2430 [==============================] - 5s 2ms/step - loss: 0.3451 - accuracy: 0.9786 - val_loss: 0.2579 - val_accuracy: 0.9840\n",
      "Epoch 9/10\n",
      "2430/2430 [==============================] - 5s 2ms/step - loss: 0.3849 - accuracy: 0.9761 - val_loss: 0.2740 - val_accuracy: 0.9830\n",
      "Epoch 10/10\n",
      "2430/2430 [==============================] - 4s 2ms/step - loss: 0.3583 - accuracy: 0.9778 - val_loss: 0.4030 - val_accuracy: 0.9750\n"
     ]
    },
    {
     "data": {
      "text/plain": [
       "<tensorflow.python.keras.callbacks.History at 0x1fff6228c48>"
      ]
     },
     "execution_count": 64,
     "metadata": {},
     "output_type": "execute_result"
    }
   ],
   "source": [
    "model.fit(train_dataset, epochs=10, validation_data=val_dataset)"
   ]
  },
  {
   "cell_type": "code",
   "execution_count": 67,
   "metadata": {},
   "outputs": [
    {
     "data": {
      "text/plain": [
       "array([[0., 1.]], dtype=float32)"
      ]
     },
     "execution_count": 67,
     "metadata": {},
     "output_type": "execute_result"
    }
   ],
   "source": [
    "model.predict(X_0[32].reshape(1, 20))"
   ]
  },
  {
   "cell_type": "code",
   "execution_count": 60,
   "metadata": {},
   "outputs": [
    {
     "data": {
      "text/plain": [
       "array([-301.46695   ,  102.895096  ,    7.2665424 ,   33.10264   ,\n",
       "          2.9483023 ,    4.9492803 ,  -14.442509  ,    3.605436  ,\n",
       "        -16.99623   ,    5.7312164 ,   -1.5544255 ,    0.65738374,\n",
       "         -6.0706964 ,   -2.1306076 ,   -5.927425  ,    5.81626   ,\n",
       "        -10.802134  ,   -1.5740451 ,   -6.3382063 ,   -3.1696377 ],\n",
       "      dtype=float32)"
      ]
     },
     "execution_count": 60,
     "metadata": {},
     "output_type": "execute_result"
    }
   ],
   "source": [
    "X_0[32]"
   ]
  }
 ],
 "metadata": {
  "kernelspec": {
   "display_name": "Python 3",
   "language": "python",
   "name": "python3"
  },
  "language_info": {
   "codemirror_mode": {
    "name": "ipython",
    "version": 3
   },
   "file_extension": ".py",
   "mimetype": "text/x-python",
   "name": "python",
   "nbconvert_exporter": "python",
   "pygments_lexer": "ipython3",
   "version": "3.7.6"
  }
 },
 "nbformat": 4,
 "nbformat_minor": 4
}
