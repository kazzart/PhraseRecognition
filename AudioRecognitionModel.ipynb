{
 "cells": [
  {
   "cell_type": "code",
   "execution_count": 1,
   "metadata": {},
   "outputs": [],
   "source": [
    "import tensorflow as tf\n",
    "import librosa\n",
    "import numpy as np\n",
    "import IPython.display as ipd\n",
    "import os\n",
    "import pandas as pd"
   ]
  },
  {
   "cell_type": "code",
   "execution_count": 2,
   "metadata": {},
   "outputs": [
    {
     "data": {
      "text/plain": [
       "(71, 20)"
      ]
     },
     "execution_count": 2,
     "metadata": {},
     "output_type": "execute_result"
    }
   ],
   "source": [
    "X_0 = []\n",
    "paths = librosa.util.find_files(r'orig\\Без шума\\Старт')\n",
    "for i in paths:\n",
    "    x, sr = librosa.load(i)\n",
    "    mfcc = librosa.feature.mfcc(y=x, sr=sr, hop_length=512, n_mfcc=20)\n",
    "    mfcc = np.mean(mfcc, axis=1)\n",
    "    X_0.append(mfcc)\n",
    "np.shape(X_0)"
   ]
  },
  {
   "cell_type": "code",
   "execution_count": 3,
   "metadata": {},
   "outputs": [],
   "source": [
    "y_0 = np.zeros(np.shape(X_0)[0])"
   ]
  },
  {
   "cell_type": "code",
   "execution_count": 11,
   "metadata": {},
   "outputs": [
    {
     "data": {
      "text/plain": [
       "(3359, 20)"
      ]
     },
     "execution_count": 11,
     "metadata": {},
     "output_type": "execute_result"
    }
   ],
   "source": [
    "X_1 = []\n",
    "voices_path = r'C:\\Users\\misai\\Программирование\\Проекты\\PhraseRecognition\\audiobooks\\data\\ru_open_stt\\private_buriy_audiobooks_2\\0'\n",
    "for path in os.listdir(voices_path):\n",
    "    paths = librosa.util.find_files(voices_path + '\\\\' + path)\n",
    "    for file in paths:\n",
    "        x, sr = librosa.load(file)\n",
    "        mfcc = librosa.feature.mfcc(y=x, sr=sr, hop_length=512, n_mfcc=20)\n",
    "        mfcc = np.mean(mfcc, axis=1)\n",
    "        X_1.append(mfcc)\n",
    "np.shape(X_1)"
   ]
  },
  {
   "cell_type": "code",
   "execution_count": 30,
   "metadata": {},
   "outputs": [],
   "source": [
    "y_1 = np.ones(3359)"
   ]
  },
  {
   "cell_type": "code",
   "execution_count": 14,
   "metadata": {},
   "outputs": [],
   "source": [
    "save = np.copy(X_1)"
   ]
  },
  {
   "cell_type": "code",
   "execution_count": 6,
   "metadata": {},
   "outputs": [],
   "source": [
    "columns = list('mfcc' + str(i) for i in range(1, 21))"
   ]
  },
  {
   "cell_type": "code",
   "execution_count": 7,
   "metadata": {},
   "outputs": [],
   "source": [
    "DF_0 = pd.DataFrame(X_0, columns=list('mfcc' + str(i) for i in range(1, 21)))"
   ]
  },
  {
   "cell_type": "code",
   "execution_count": 29,
   "metadata": {},
   "outputs": [],
   "source": [
    "DF_1 = pd.DataFrame(X_1, columns=list('mfcc' + str(i) for i in range(1, 21)))"
   ]
  },
  {
   "cell_type": "code",
   "execution_count": 8,
   "metadata": {},
   "outputs": [],
   "source": [
    "save_1 = pd.read_csv(r'C:\\Users\\misai\\Программирование\\Проекты\\PhraseRecognition\\DF_1.csv', index_col=0)"
   ]
  },
  {
   "cell_type": "code",
   "execution_count": 9,
   "metadata": {},
   "outputs": [
    {
     "data": {
      "text/html": [
       "<div>\n",
       "<style scoped>\n",
       "    .dataframe tbody tr th:only-of-type {\n",
       "        vertical-align: middle;\n",
       "    }\n",
       "\n",
       "    .dataframe tbody tr th {\n",
       "        vertical-align: top;\n",
       "    }\n",
       "\n",
       "    .dataframe thead th {\n",
       "        text-align: right;\n",
       "    }\n",
       "</style>\n",
       "<table border=\"1\" class=\"dataframe\">\n",
       "  <thead>\n",
       "    <tr style=\"text-align: right;\">\n",
       "      <th></th>\n",
       "      <th>mfcc1</th>\n",
       "      <th>mfcc2</th>\n",
       "      <th>mfcc3</th>\n",
       "      <th>mfcc4</th>\n",
       "      <th>mfcc5</th>\n",
       "      <th>mfcc6</th>\n",
       "      <th>mfcc7</th>\n",
       "      <th>mfcc8</th>\n",
       "      <th>mfcc9</th>\n",
       "      <th>mfcc10</th>\n",
       "      <th>mfcc11</th>\n",
       "      <th>mfcc12</th>\n",
       "      <th>mfcc13</th>\n",
       "      <th>mfcc14</th>\n",
       "      <th>mfcc15</th>\n",
       "      <th>mfcc16</th>\n",
       "      <th>mfcc17</th>\n",
       "      <th>mfcc18</th>\n",
       "      <th>mfcc19</th>\n",
       "      <th>mfcc20</th>\n",
       "    </tr>\n",
       "  </thead>\n",
       "  <tbody>\n",
       "    <tr>\n",
       "      <th>0</th>\n",
       "      <td>-340.768799</td>\n",
       "      <td>75.068962</td>\n",
       "      <td>-2.449855</td>\n",
       "      <td>21.445436</td>\n",
       "      <td>-6.660470</td>\n",
       "      <td>1.396364</td>\n",
       "      <td>-23.702692</td>\n",
       "      <td>15.587738</td>\n",
       "      <td>-5.263852</td>\n",
       "      <td>8.058776</td>\n",
       "      <td>-5.062593</td>\n",
       "      <td>5.981391</td>\n",
       "      <td>-10.102416</td>\n",
       "      <td>2.169253</td>\n",
       "      <td>2.053474</td>\n",
       "      <td>-3.483684</td>\n",
       "      <td>0.299574</td>\n",
       "      <td>2.409102</td>\n",
       "      <td>-3.164918</td>\n",
       "      <td>4.179435</td>\n",
       "    </tr>\n",
       "    <tr>\n",
       "      <th>1</th>\n",
       "      <td>-319.350159</td>\n",
       "      <td>110.979500</td>\n",
       "      <td>-9.221969</td>\n",
       "      <td>24.480909</td>\n",
       "      <td>0.433996</td>\n",
       "      <td>-3.178642</td>\n",
       "      <td>-12.134595</td>\n",
       "      <td>8.180908</td>\n",
       "      <td>-13.884797</td>\n",
       "      <td>1.397449</td>\n",
       "      <td>-1.784678</td>\n",
       "      <td>3.135814</td>\n",
       "      <td>-4.784268</td>\n",
       "      <td>1.858990</td>\n",
       "      <td>-6.371924</td>\n",
       "      <td>-0.053081</td>\n",
       "      <td>-7.679573</td>\n",
       "      <td>-1.390087</td>\n",
       "      <td>-8.511072</td>\n",
       "      <td>-3.212606</td>\n",
       "    </tr>\n",
       "    <tr>\n",
       "      <th>2</th>\n",
       "      <td>-277.733917</td>\n",
       "      <td>86.339371</td>\n",
       "      <td>9.546513</td>\n",
       "      <td>27.260670</td>\n",
       "      <td>-1.580854</td>\n",
       "      <td>2.294679</td>\n",
       "      <td>-21.063057</td>\n",
       "      <td>-6.768252</td>\n",
       "      <td>-16.339190</td>\n",
       "      <td>3.448966</td>\n",
       "      <td>-0.185480</td>\n",
       "      <td>3.037778</td>\n",
       "      <td>-7.492875</td>\n",
       "      <td>-4.326860</td>\n",
       "      <td>-3.938322</td>\n",
       "      <td>-0.061976</td>\n",
       "      <td>-8.204382</td>\n",
       "      <td>-0.990154</td>\n",
       "      <td>-7.994271</td>\n",
       "      <td>1.662887</td>\n",
       "    </tr>\n",
       "    <tr>\n",
       "      <th>3</th>\n",
       "      <td>-287.441437</td>\n",
       "      <td>101.411537</td>\n",
       "      <td>9.845778</td>\n",
       "      <td>18.111305</td>\n",
       "      <td>0.953473</td>\n",
       "      <td>4.148739</td>\n",
       "      <td>-21.461174</td>\n",
       "      <td>3.548748</td>\n",
       "      <td>-11.676284</td>\n",
       "      <td>1.810830</td>\n",
       "      <td>-8.262000</td>\n",
       "      <td>-2.074018</td>\n",
       "      <td>-8.954288</td>\n",
       "      <td>0.328092</td>\n",
       "      <td>-4.562632</td>\n",
       "      <td>1.470902</td>\n",
       "      <td>-8.286371</td>\n",
       "      <td>2.301535</td>\n",
       "      <td>-9.539157</td>\n",
       "      <td>-0.675301</td>\n",
       "    </tr>\n",
       "    <tr>\n",
       "      <th>4</th>\n",
       "      <td>-292.986938</td>\n",
       "      <td>82.176956</td>\n",
       "      <td>5.167121</td>\n",
       "      <td>21.194124</td>\n",
       "      <td>0.813182</td>\n",
       "      <td>-5.446115</td>\n",
       "      <td>-21.213644</td>\n",
       "      <td>1.445883</td>\n",
       "      <td>-20.313686</td>\n",
       "      <td>4.439660</td>\n",
       "      <td>-1.148367</td>\n",
       "      <td>-7.161251</td>\n",
       "      <td>-7.837586</td>\n",
       "      <td>-1.914691</td>\n",
       "      <td>-7.601760</td>\n",
       "      <td>4.359953</td>\n",
       "      <td>-6.932132</td>\n",
       "      <td>1.251793</td>\n",
       "      <td>-9.683860</td>\n",
       "      <td>2.710421</td>\n",
       "    </tr>\n",
       "    <tr>\n",
       "      <th>...</th>\n",
       "      <td>...</td>\n",
       "      <td>...</td>\n",
       "      <td>...</td>\n",
       "      <td>...</td>\n",
       "      <td>...</td>\n",
       "      <td>...</td>\n",
       "      <td>...</td>\n",
       "      <td>...</td>\n",
       "      <td>...</td>\n",
       "      <td>...</td>\n",
       "      <td>...</td>\n",
       "      <td>...</td>\n",
       "      <td>...</td>\n",
       "      <td>...</td>\n",
       "      <td>...</td>\n",
       "      <td>...</td>\n",
       "      <td>...</td>\n",
       "      <td>...</td>\n",
       "      <td>...</td>\n",
       "      <td>...</td>\n",
       "    </tr>\n",
       "    <tr>\n",
       "      <th>3425</th>\n",
       "      <td>-290.670074</td>\n",
       "      <td>107.864807</td>\n",
       "      <td>-10.905443</td>\n",
       "      <td>16.349510</td>\n",
       "      <td>-10.093550</td>\n",
       "      <td>18.151892</td>\n",
       "      <td>-25.673592</td>\n",
       "      <td>-28.731098</td>\n",
       "      <td>-13.618978</td>\n",
       "      <td>-15.610921</td>\n",
       "      <td>-22.825590</td>\n",
       "      <td>-5.592656</td>\n",
       "      <td>16.369370</td>\n",
       "      <td>-14.455715</td>\n",
       "      <td>6.453847</td>\n",
       "      <td>2.919372</td>\n",
       "      <td>-22.993980</td>\n",
       "      <td>-9.529423</td>\n",
       "      <td>1.558635</td>\n",
       "      <td>-4.659712</td>\n",
       "    </tr>\n",
       "    <tr>\n",
       "      <th>3426</th>\n",
       "      <td>-206.482544</td>\n",
       "      <td>135.750595</td>\n",
       "      <td>-35.974678</td>\n",
       "      <td>53.950138</td>\n",
       "      <td>-13.356145</td>\n",
       "      <td>23.576660</td>\n",
       "      <td>-3.269206</td>\n",
       "      <td>6.210017</td>\n",
       "      <td>-15.155455</td>\n",
       "      <td>-13.114673</td>\n",
       "      <td>-14.369177</td>\n",
       "      <td>-14.378550</td>\n",
       "      <td>8.763562</td>\n",
       "      <td>-21.915689</td>\n",
       "      <td>-1.584412</td>\n",
       "      <td>-3.689015</td>\n",
       "      <td>5.678556</td>\n",
       "      <td>0.104813</td>\n",
       "      <td>-2.471504</td>\n",
       "      <td>6.251332</td>\n",
       "    </tr>\n",
       "    <tr>\n",
       "      <th>3427</th>\n",
       "      <td>-267.670593</td>\n",
       "      <td>99.501114</td>\n",
       "      <td>-13.876461</td>\n",
       "      <td>36.051384</td>\n",
       "      <td>-1.516481</td>\n",
       "      <td>15.851993</td>\n",
       "      <td>-19.727144</td>\n",
       "      <td>-11.796036</td>\n",
       "      <td>-19.238400</td>\n",
       "      <td>-16.816988</td>\n",
       "      <td>-20.405027</td>\n",
       "      <td>-3.661840</td>\n",
       "      <td>2.577270</td>\n",
       "      <td>-18.873972</td>\n",
       "      <td>3.944394</td>\n",
       "      <td>-6.898897</td>\n",
       "      <td>-5.065143</td>\n",
       "      <td>-11.858092</td>\n",
       "      <td>-2.611360</td>\n",
       "      <td>-10.019358</td>\n",
       "    </tr>\n",
       "    <tr>\n",
       "      <th>3428</th>\n",
       "      <td>-308.496521</td>\n",
       "      <td>88.060783</td>\n",
       "      <td>-10.513425</td>\n",
       "      <td>53.359203</td>\n",
       "      <td>-1.133422</td>\n",
       "      <td>25.417496</td>\n",
       "      <td>0.162233</td>\n",
       "      <td>12.318471</td>\n",
       "      <td>-0.035208</td>\n",
       "      <td>-5.947904</td>\n",
       "      <td>-10.562906</td>\n",
       "      <td>-14.901034</td>\n",
       "      <td>0.723643</td>\n",
       "      <td>-12.418535</td>\n",
       "      <td>-0.250707</td>\n",
       "      <td>-8.382144</td>\n",
       "      <td>5.308206</td>\n",
       "      <td>2.212369</td>\n",
       "      <td>-5.269159</td>\n",
       "      <td>0.034238</td>\n",
       "    </tr>\n",
       "    <tr>\n",
       "      <th>3429</th>\n",
       "      <td>-276.154480</td>\n",
       "      <td>104.315056</td>\n",
       "      <td>-33.666370</td>\n",
       "      <td>47.443333</td>\n",
       "      <td>7.843782</td>\n",
       "      <td>1.043074</td>\n",
       "      <td>-0.810328</td>\n",
       "      <td>-24.808512</td>\n",
       "      <td>-4.703101</td>\n",
       "      <td>-14.180972</td>\n",
       "      <td>-11.334097</td>\n",
       "      <td>-5.052141</td>\n",
       "      <td>-10.525180</td>\n",
       "      <td>0.217607</td>\n",
       "      <td>-0.724400</td>\n",
       "      <td>-1.219589</td>\n",
       "      <td>-4.934043</td>\n",
       "      <td>-7.229980</td>\n",
       "      <td>0.217934</td>\n",
       "      <td>-7.348180</td>\n",
       "    </tr>\n",
       "  </tbody>\n",
       "</table>\n",
       "<p>3430 rows × 20 columns</p>\n",
       "</div>"
      ],
      "text/plain": [
       "           mfcc1       mfcc2      mfcc3      mfcc4      mfcc5      mfcc6  \\\n",
       "0    -340.768799   75.068962  -2.449855  21.445436  -6.660470   1.396364   \n",
       "1    -319.350159  110.979500  -9.221969  24.480909   0.433996  -3.178642   \n",
       "2    -277.733917   86.339371   9.546513  27.260670  -1.580854   2.294679   \n",
       "3    -287.441437  101.411537   9.845778  18.111305   0.953473   4.148739   \n",
       "4    -292.986938   82.176956   5.167121  21.194124   0.813182  -5.446115   \n",
       "...          ...         ...        ...        ...        ...        ...   \n",
       "3425 -290.670074  107.864807 -10.905443  16.349510 -10.093550  18.151892   \n",
       "3426 -206.482544  135.750595 -35.974678  53.950138 -13.356145  23.576660   \n",
       "3427 -267.670593   99.501114 -13.876461  36.051384  -1.516481  15.851993   \n",
       "3428 -308.496521   88.060783 -10.513425  53.359203  -1.133422  25.417496   \n",
       "3429 -276.154480  104.315056 -33.666370  47.443333   7.843782   1.043074   \n",
       "\n",
       "          mfcc7      mfcc8      mfcc9     mfcc10     mfcc11     mfcc12  \\\n",
       "0    -23.702692  15.587738  -5.263852   8.058776  -5.062593   5.981391   \n",
       "1    -12.134595   8.180908 -13.884797   1.397449  -1.784678   3.135814   \n",
       "2    -21.063057  -6.768252 -16.339190   3.448966  -0.185480   3.037778   \n",
       "3    -21.461174   3.548748 -11.676284   1.810830  -8.262000  -2.074018   \n",
       "4    -21.213644   1.445883 -20.313686   4.439660  -1.148367  -7.161251   \n",
       "...         ...        ...        ...        ...        ...        ...   \n",
       "3425 -25.673592 -28.731098 -13.618978 -15.610921 -22.825590  -5.592656   \n",
       "3426  -3.269206   6.210017 -15.155455 -13.114673 -14.369177 -14.378550   \n",
       "3427 -19.727144 -11.796036 -19.238400 -16.816988 -20.405027  -3.661840   \n",
       "3428   0.162233  12.318471  -0.035208  -5.947904 -10.562906 -14.901034   \n",
       "3429  -0.810328 -24.808512  -4.703101 -14.180972 -11.334097  -5.052141   \n",
       "\n",
       "         mfcc13     mfcc14    mfcc15    mfcc16     mfcc17     mfcc18  \\\n",
       "0    -10.102416   2.169253  2.053474 -3.483684   0.299574   2.409102   \n",
       "1     -4.784268   1.858990 -6.371924 -0.053081  -7.679573  -1.390087   \n",
       "2     -7.492875  -4.326860 -3.938322 -0.061976  -8.204382  -0.990154   \n",
       "3     -8.954288   0.328092 -4.562632  1.470902  -8.286371   2.301535   \n",
       "4     -7.837586  -1.914691 -7.601760  4.359953  -6.932132   1.251793   \n",
       "...         ...        ...       ...       ...        ...        ...   \n",
       "3425  16.369370 -14.455715  6.453847  2.919372 -22.993980  -9.529423   \n",
       "3426   8.763562 -21.915689 -1.584412 -3.689015   5.678556   0.104813   \n",
       "3427   2.577270 -18.873972  3.944394 -6.898897  -5.065143 -11.858092   \n",
       "3428   0.723643 -12.418535 -0.250707 -8.382144   5.308206   2.212369   \n",
       "3429 -10.525180   0.217607 -0.724400 -1.219589  -4.934043  -7.229980   \n",
       "\n",
       "        mfcc19     mfcc20  \n",
       "0    -3.164918   4.179435  \n",
       "1    -8.511072  -3.212606  \n",
       "2    -7.994271   1.662887  \n",
       "3    -9.539157  -0.675301  \n",
       "4    -9.683860   2.710421  \n",
       "...        ...        ...  \n",
       "3425  1.558635  -4.659712  \n",
       "3426 -2.471504   6.251332  \n",
       "3427 -2.611360 -10.019358  \n",
       "3428 -5.269159   0.034238  \n",
       "3429  0.217934  -7.348180  \n",
       "\n",
       "[3430 rows x 20 columns]"
      ]
     },
     "execution_count": 9,
     "metadata": {},
     "output_type": "execute_result"
    }
   ],
   "source": [
    "X = DF_0.append(save_1, ignore_index=True)\n",
    "X"
   ]
  },
  {
   "cell_type": "code",
   "execution_count": 31,
   "metadata": {},
   "outputs": [
    {
     "data": {
      "text/plain": [
       "array([0., 0., 0., ..., 1., 1., 1.])"
      ]
     },
     "execution_count": 31,
     "metadata": {},
     "output_type": "execute_result"
    }
   ],
   "source": [
    "y = np.append(y_0, y_1)\n",
    "y"
   ]
  },
  {
   "cell_type": "code",
   "execution_count": 32,
   "metadata": {},
   "outputs": [],
   "source": [
    "y = pd.DataFrame(y)"
   ]
  },
  {
   "cell_type": "code",
   "execution_count": 33,
   "metadata": {},
   "outputs": [
    {
     "data": {
      "text/html": [
       "<div>\n",
       "<style scoped>\n",
       "    .dataframe tbody tr th:only-of-type {\n",
       "        vertical-align: middle;\n",
       "    }\n",
       "\n",
       "    .dataframe tbody tr th {\n",
       "        vertical-align: top;\n",
       "    }\n",
       "\n",
       "    .dataframe thead th {\n",
       "        text-align: right;\n",
       "    }\n",
       "</style>\n",
       "<table border=\"1\" class=\"dataframe\">\n",
       "  <thead>\n",
       "    <tr style=\"text-align: right;\">\n",
       "      <th></th>\n",
       "      <th>0</th>\n",
       "    </tr>\n",
       "  </thead>\n",
       "  <tbody>\n",
       "    <tr>\n",
       "      <th>0</th>\n",
       "      <td>0.0</td>\n",
       "    </tr>\n",
       "    <tr>\n",
       "      <th>1</th>\n",
       "      <td>0.0</td>\n",
       "    </tr>\n",
       "    <tr>\n",
       "      <th>2</th>\n",
       "      <td>0.0</td>\n",
       "    </tr>\n",
       "    <tr>\n",
       "      <th>3</th>\n",
       "      <td>0.0</td>\n",
       "    </tr>\n",
       "    <tr>\n",
       "      <th>4</th>\n",
       "      <td>0.0</td>\n",
       "    </tr>\n",
       "    <tr>\n",
       "      <th>...</th>\n",
       "      <td>...</td>\n",
       "    </tr>\n",
       "    <tr>\n",
       "      <th>3425</th>\n",
       "      <td>1.0</td>\n",
       "    </tr>\n",
       "    <tr>\n",
       "      <th>3426</th>\n",
       "      <td>1.0</td>\n",
       "    </tr>\n",
       "    <tr>\n",
       "      <th>3427</th>\n",
       "      <td>1.0</td>\n",
       "    </tr>\n",
       "    <tr>\n",
       "      <th>3428</th>\n",
       "      <td>1.0</td>\n",
       "    </tr>\n",
       "    <tr>\n",
       "      <th>3429</th>\n",
       "      <td>1.0</td>\n",
       "    </tr>\n",
       "  </tbody>\n",
       "</table>\n",
       "<p>3430 rows × 1 columns</p>\n",
       "</div>"
      ],
      "text/plain": [
       "        0\n",
       "0     0.0\n",
       "1     0.0\n",
       "2     0.0\n",
       "3     0.0\n",
       "4     0.0\n",
       "...   ...\n",
       "3425  1.0\n",
       "3426  1.0\n",
       "3427  1.0\n",
       "3428  1.0\n",
       "3429  1.0\n",
       "\n",
       "[3430 rows x 1 columns]"
      ]
     },
     "execution_count": 33,
     "metadata": {},
     "output_type": "execute_result"
    }
   ],
   "source": [
    "y"
   ]
  },
  {
   "cell_type": "code",
   "execution_count": 34,
   "metadata": {},
   "outputs": [],
   "source": [
    "model = tf.keras.Sequential([\n",
    "    tf.keras.layers.Dense(20, activation='relu', input_shape=(20,)),\n",
    "    #tf.keras.layers.Dropout(0.5),\n",
    "    tf.keras.layers.Dense(40, activation='relu'),\n",
    "    #tf.keras.layers.Dropout(0.5),\n",
    "    tf.keras.layers.Dense(10, activation='relu'),\n",
    "    tf.keras.layers.Dense(1, activation='sigmoid'),\n",
    "])"
   ]
  },
  {
   "cell_type": "code",
   "execution_count": 35,
   "metadata": {},
   "outputs": [],
   "source": [
    "model.compile(loss='sparse_categorical_crossentropy',\n",
    "              optimizer='adam',\n",
    "              metrics=['accuracy'])"
   ]
  },
  {
   "cell_type": "code",
   "execution_count": 36,
   "metadata": {},
   "outputs": [],
   "source": [
    "dataset = tf.data.Dataset.from_tensor_slices((X.values, y.values))"
   ]
  },
  {
   "cell_type": "code",
   "execution_count": 37,
   "metadata": {},
   "outputs": [],
   "source": [
    "shuffled_dataset = dataset.shuffle(len(X)).batch(1)"
   ]
  },
  {
   "cell_type": "code",
   "execution_count": 38,
   "metadata": {},
   "outputs": [],
   "source": [
    "val_dataset = shuffled_dataset.take(1000) \n",
    "train_dataset = shuffled_dataset.skip(1000)"
   ]
  },
  {
   "cell_type": "code",
   "execution_count": 39,
   "metadata": {},
   "outputs": [
    {
     "name": "stdout",
     "output_type": "stream",
     "text": [
      "Epoch 1/10\n",
      "      1/Unknown - 1s 530ms/step"
     ]
    },
    {
     "ename": "InvalidArgumentError",
     "evalue": " Received a label value of 1 which is outside the valid range of [0, 1).  Label values: 1\n\t [[node loss/dense_7_loss/SparseSoftmaxCrossEntropyWithLogits/SparseSoftmaxCrossEntropyWithLogits (defined at C:\\Users\\misai\\Anaconda3\\envs\\SoundRecognition\\lib\\site-packages\\tensorflow_core\\python\\framework\\ops.py:1751) ]] [Op:__inference_distributed_function_104833]\n\nFunction call stack:\ndistributed_function\n",
     "output_type": "error",
     "traceback": [
      "\u001b[1;31m---------------------------------------------------------------------------\u001b[0m",
      "\u001b[1;31mInvalidArgumentError\u001b[0m                      Traceback (most recent call last)",
      "\u001b[1;32m<ipython-input-39-25dcd4bdc6e6>\u001b[0m in \u001b[0;36m<module>\u001b[1;34m\u001b[0m\n\u001b[1;32m----> 1\u001b[1;33m \u001b[0mmodel\u001b[0m\u001b[1;33m.\u001b[0m\u001b[0mfit\u001b[0m\u001b[1;33m(\u001b[0m\u001b[0mtrain_dataset\u001b[0m\u001b[1;33m,\u001b[0m \u001b[0mepochs\u001b[0m\u001b[1;33m=\u001b[0m\u001b[1;36m10\u001b[0m\u001b[1;33m,\u001b[0m \u001b[0mvalidation_data\u001b[0m\u001b[1;33m=\u001b[0m\u001b[0mval_dataset\u001b[0m\u001b[1;33m)\u001b[0m\u001b[1;33m\u001b[0m\u001b[1;33m\u001b[0m\u001b[0m\n\u001b[0m",
      "\u001b[1;32m~\\Anaconda3\\envs\\SoundRecognition\\lib\\site-packages\\tensorflow_core\\python\\keras\\engine\\training.py\u001b[0m in \u001b[0;36mfit\u001b[1;34m(self, x, y, batch_size, epochs, verbose, callbacks, validation_split, validation_data, shuffle, class_weight, sample_weight, initial_epoch, steps_per_epoch, validation_steps, validation_freq, max_queue_size, workers, use_multiprocessing, **kwargs)\u001b[0m\n\u001b[0;32m    726\u001b[0m         \u001b[0mmax_queue_size\u001b[0m\u001b[1;33m=\u001b[0m\u001b[0mmax_queue_size\u001b[0m\u001b[1;33m,\u001b[0m\u001b[1;33m\u001b[0m\u001b[1;33m\u001b[0m\u001b[0m\n\u001b[0;32m    727\u001b[0m         \u001b[0mworkers\u001b[0m\u001b[1;33m=\u001b[0m\u001b[0mworkers\u001b[0m\u001b[1;33m,\u001b[0m\u001b[1;33m\u001b[0m\u001b[1;33m\u001b[0m\u001b[0m\n\u001b[1;32m--> 728\u001b[1;33m         use_multiprocessing=use_multiprocessing)\n\u001b[0m\u001b[0;32m    729\u001b[0m \u001b[1;33m\u001b[0m\u001b[0m\n\u001b[0;32m    730\u001b[0m   def evaluate(self,\n",
      "\u001b[1;32m~\\Anaconda3\\envs\\SoundRecognition\\lib\\site-packages\\tensorflow_core\\python\\keras\\engine\\training_v2.py\u001b[0m in \u001b[0;36mfit\u001b[1;34m(self, model, x, y, batch_size, epochs, verbose, callbacks, validation_split, validation_data, shuffle, class_weight, sample_weight, initial_epoch, steps_per_epoch, validation_steps, validation_freq, **kwargs)\u001b[0m\n\u001b[0;32m    322\u001b[0m                 \u001b[0mmode\u001b[0m\u001b[1;33m=\u001b[0m\u001b[0mModeKeys\u001b[0m\u001b[1;33m.\u001b[0m\u001b[0mTRAIN\u001b[0m\u001b[1;33m,\u001b[0m\u001b[1;33m\u001b[0m\u001b[1;33m\u001b[0m\u001b[0m\n\u001b[0;32m    323\u001b[0m                 \u001b[0mtraining_context\u001b[0m\u001b[1;33m=\u001b[0m\u001b[0mtraining_context\u001b[0m\u001b[1;33m,\u001b[0m\u001b[1;33m\u001b[0m\u001b[1;33m\u001b[0m\u001b[0m\n\u001b[1;32m--> 324\u001b[1;33m                 total_epochs=epochs)\n\u001b[0m\u001b[0;32m    325\u001b[0m             \u001b[0mcbks\u001b[0m\u001b[1;33m.\u001b[0m\u001b[0mmake_logs\u001b[0m\u001b[1;33m(\u001b[0m\u001b[0mmodel\u001b[0m\u001b[1;33m,\u001b[0m \u001b[0mepoch_logs\u001b[0m\u001b[1;33m,\u001b[0m \u001b[0mtraining_result\u001b[0m\u001b[1;33m,\u001b[0m \u001b[0mModeKeys\u001b[0m\u001b[1;33m.\u001b[0m\u001b[0mTRAIN\u001b[0m\u001b[1;33m)\u001b[0m\u001b[1;33m\u001b[0m\u001b[1;33m\u001b[0m\u001b[0m\n\u001b[0;32m    326\u001b[0m \u001b[1;33m\u001b[0m\u001b[0m\n",
      "\u001b[1;32m~\\Anaconda3\\envs\\SoundRecognition\\lib\\site-packages\\tensorflow_core\\python\\keras\\engine\\training_v2.py\u001b[0m in \u001b[0;36mrun_one_epoch\u001b[1;34m(model, iterator, execution_function, dataset_size, batch_size, strategy, steps_per_epoch, num_samples, mode, training_context, total_epochs)\u001b[0m\n\u001b[0;32m    121\u001b[0m         step=step, mode=mode, size=current_batch_size) as batch_logs:\n\u001b[0;32m    122\u001b[0m       \u001b[1;32mtry\u001b[0m\u001b[1;33m:\u001b[0m\u001b[1;33m\u001b[0m\u001b[1;33m\u001b[0m\u001b[0m\n\u001b[1;32m--> 123\u001b[1;33m         \u001b[0mbatch_outs\u001b[0m \u001b[1;33m=\u001b[0m \u001b[0mexecution_function\u001b[0m\u001b[1;33m(\u001b[0m\u001b[0miterator\u001b[0m\u001b[1;33m)\u001b[0m\u001b[1;33m\u001b[0m\u001b[1;33m\u001b[0m\u001b[0m\n\u001b[0m\u001b[0;32m    124\u001b[0m       \u001b[1;32mexcept\u001b[0m \u001b[1;33m(\u001b[0m\u001b[0mStopIteration\u001b[0m\u001b[1;33m,\u001b[0m \u001b[0merrors\u001b[0m\u001b[1;33m.\u001b[0m\u001b[0mOutOfRangeError\u001b[0m\u001b[1;33m)\u001b[0m\u001b[1;33m:\u001b[0m\u001b[1;33m\u001b[0m\u001b[1;33m\u001b[0m\u001b[0m\n\u001b[0;32m    125\u001b[0m         \u001b[1;31m# TODO(kaftan): File bug about tf function and errors.OutOfRangeError?\u001b[0m\u001b[1;33m\u001b[0m\u001b[1;33m\u001b[0m\u001b[1;33m\u001b[0m\u001b[0m\n",
      "\u001b[1;32m~\\Anaconda3\\envs\\SoundRecognition\\lib\\site-packages\\tensorflow_core\\python\\keras\\engine\\training_v2_utils.py\u001b[0m in \u001b[0;36mexecution_function\u001b[1;34m(input_fn)\u001b[0m\n\u001b[0;32m     84\u001b[0m     \u001b[1;31m# `numpy` translates Tensors to values in Eager mode.\u001b[0m\u001b[1;33m\u001b[0m\u001b[1;33m\u001b[0m\u001b[1;33m\u001b[0m\u001b[0m\n\u001b[0;32m     85\u001b[0m     return nest.map_structure(_non_none_constant_value,\n\u001b[1;32m---> 86\u001b[1;33m                               distributed_function(input_fn))\n\u001b[0m\u001b[0;32m     87\u001b[0m \u001b[1;33m\u001b[0m\u001b[0m\n\u001b[0;32m     88\u001b[0m   \u001b[1;32mreturn\u001b[0m \u001b[0mexecution_function\u001b[0m\u001b[1;33m\u001b[0m\u001b[1;33m\u001b[0m\u001b[0m\n",
      "\u001b[1;32m~\\Anaconda3\\envs\\SoundRecognition\\lib\\site-packages\\tensorflow_core\\python\\eager\\def_function.py\u001b[0m in \u001b[0;36m__call__\u001b[1;34m(self, *args, **kwds)\u001b[0m\n\u001b[0;32m    455\u001b[0m \u001b[1;33m\u001b[0m\u001b[0m\n\u001b[0;32m    456\u001b[0m     \u001b[0mtracing_count\u001b[0m \u001b[1;33m=\u001b[0m \u001b[0mself\u001b[0m\u001b[1;33m.\u001b[0m\u001b[0m_get_tracing_count\u001b[0m\u001b[1;33m(\u001b[0m\u001b[1;33m)\u001b[0m\u001b[1;33m\u001b[0m\u001b[1;33m\u001b[0m\u001b[0m\n\u001b[1;32m--> 457\u001b[1;33m     \u001b[0mresult\u001b[0m \u001b[1;33m=\u001b[0m \u001b[0mself\u001b[0m\u001b[1;33m.\u001b[0m\u001b[0m_call\u001b[0m\u001b[1;33m(\u001b[0m\u001b[1;33m*\u001b[0m\u001b[0margs\u001b[0m\u001b[1;33m,\u001b[0m \u001b[1;33m**\u001b[0m\u001b[0mkwds\u001b[0m\u001b[1;33m)\u001b[0m\u001b[1;33m\u001b[0m\u001b[1;33m\u001b[0m\u001b[0m\n\u001b[0m\u001b[0;32m    458\u001b[0m     \u001b[1;32mif\u001b[0m \u001b[0mtracing_count\u001b[0m \u001b[1;33m==\u001b[0m \u001b[0mself\u001b[0m\u001b[1;33m.\u001b[0m\u001b[0m_get_tracing_count\u001b[0m\u001b[1;33m(\u001b[0m\u001b[1;33m)\u001b[0m\u001b[1;33m:\u001b[0m\u001b[1;33m\u001b[0m\u001b[1;33m\u001b[0m\u001b[0m\n\u001b[0;32m    459\u001b[0m       \u001b[0mself\u001b[0m\u001b[1;33m.\u001b[0m\u001b[0m_call_counter\u001b[0m\u001b[1;33m.\u001b[0m\u001b[0mcalled_without_tracing\u001b[0m\u001b[1;33m(\u001b[0m\u001b[1;33m)\u001b[0m\u001b[1;33m\u001b[0m\u001b[1;33m\u001b[0m\u001b[0m\n",
      "\u001b[1;32m~\\Anaconda3\\envs\\SoundRecognition\\lib\\site-packages\\tensorflow_core\\python\\eager\\def_function.py\u001b[0m in \u001b[0;36m_call\u001b[1;34m(self, *args, **kwds)\u001b[0m\n\u001b[0;32m    518\u001b[0m         \u001b[1;31m# Lifting succeeded, so variables are initialized and we can run the\u001b[0m\u001b[1;33m\u001b[0m\u001b[1;33m\u001b[0m\u001b[1;33m\u001b[0m\u001b[0m\n\u001b[0;32m    519\u001b[0m         \u001b[1;31m# stateless function.\u001b[0m\u001b[1;33m\u001b[0m\u001b[1;33m\u001b[0m\u001b[1;33m\u001b[0m\u001b[0m\n\u001b[1;32m--> 520\u001b[1;33m         \u001b[1;32mreturn\u001b[0m \u001b[0mself\u001b[0m\u001b[1;33m.\u001b[0m\u001b[0m_stateless_fn\u001b[0m\u001b[1;33m(\u001b[0m\u001b[1;33m*\u001b[0m\u001b[0margs\u001b[0m\u001b[1;33m,\u001b[0m \u001b[1;33m**\u001b[0m\u001b[0mkwds\u001b[0m\u001b[1;33m)\u001b[0m\u001b[1;33m\u001b[0m\u001b[1;33m\u001b[0m\u001b[0m\n\u001b[0m\u001b[0;32m    521\u001b[0m     \u001b[1;32melse\u001b[0m\u001b[1;33m:\u001b[0m\u001b[1;33m\u001b[0m\u001b[1;33m\u001b[0m\u001b[0m\n\u001b[0;32m    522\u001b[0m       \u001b[0mcanon_args\u001b[0m\u001b[1;33m,\u001b[0m \u001b[0mcanon_kwds\u001b[0m \u001b[1;33m=\u001b[0m\u001b[0;31m \u001b[0m\u001b[0;31m\\\u001b[0m\u001b[1;33m\u001b[0m\u001b[1;33m\u001b[0m\u001b[0m\n",
      "\u001b[1;32m~\\Anaconda3\\envs\\SoundRecognition\\lib\\site-packages\\tensorflow_core\\python\\eager\\function.py\u001b[0m in \u001b[0;36m__call__\u001b[1;34m(self, *args, **kwargs)\u001b[0m\n\u001b[0;32m   1821\u001b[0m     \u001b[1;34m\"\"\"Calls a graph function specialized to the inputs.\"\"\"\u001b[0m\u001b[1;33m\u001b[0m\u001b[1;33m\u001b[0m\u001b[0m\n\u001b[0;32m   1822\u001b[0m     \u001b[0mgraph_function\u001b[0m\u001b[1;33m,\u001b[0m \u001b[0margs\u001b[0m\u001b[1;33m,\u001b[0m \u001b[0mkwargs\u001b[0m \u001b[1;33m=\u001b[0m \u001b[0mself\u001b[0m\u001b[1;33m.\u001b[0m\u001b[0m_maybe_define_function\u001b[0m\u001b[1;33m(\u001b[0m\u001b[0margs\u001b[0m\u001b[1;33m,\u001b[0m \u001b[0mkwargs\u001b[0m\u001b[1;33m)\u001b[0m\u001b[1;33m\u001b[0m\u001b[1;33m\u001b[0m\u001b[0m\n\u001b[1;32m-> 1823\u001b[1;33m     \u001b[1;32mreturn\u001b[0m \u001b[0mgraph_function\u001b[0m\u001b[1;33m.\u001b[0m\u001b[0m_filtered_call\u001b[0m\u001b[1;33m(\u001b[0m\u001b[0margs\u001b[0m\u001b[1;33m,\u001b[0m \u001b[0mkwargs\u001b[0m\u001b[1;33m)\u001b[0m  \u001b[1;31m# pylint: disable=protected-access\u001b[0m\u001b[1;33m\u001b[0m\u001b[1;33m\u001b[0m\u001b[0m\n\u001b[0m\u001b[0;32m   1824\u001b[0m \u001b[1;33m\u001b[0m\u001b[0m\n\u001b[0;32m   1825\u001b[0m   \u001b[1;33m@\u001b[0m\u001b[0mproperty\u001b[0m\u001b[1;33m\u001b[0m\u001b[1;33m\u001b[0m\u001b[0m\n",
      "\u001b[1;32m~\\Anaconda3\\envs\\SoundRecognition\\lib\\site-packages\\tensorflow_core\\python\\eager\\function.py\u001b[0m in \u001b[0;36m_filtered_call\u001b[1;34m(self, args, kwargs)\u001b[0m\n\u001b[0;32m   1139\u001b[0m          if isinstance(t, (ops.Tensor,\n\u001b[0;32m   1140\u001b[0m                            resource_variable_ops.BaseResourceVariable))),\n\u001b[1;32m-> 1141\u001b[1;33m         self.captured_inputs)\n\u001b[0m\u001b[0;32m   1142\u001b[0m \u001b[1;33m\u001b[0m\u001b[0m\n\u001b[0;32m   1143\u001b[0m   \u001b[1;32mdef\u001b[0m \u001b[0m_call_flat\u001b[0m\u001b[1;33m(\u001b[0m\u001b[0mself\u001b[0m\u001b[1;33m,\u001b[0m \u001b[0margs\u001b[0m\u001b[1;33m,\u001b[0m \u001b[0mcaptured_inputs\u001b[0m\u001b[1;33m,\u001b[0m \u001b[0mcancellation_manager\u001b[0m\u001b[1;33m=\u001b[0m\u001b[1;32mNone\u001b[0m\u001b[1;33m)\u001b[0m\u001b[1;33m:\u001b[0m\u001b[1;33m\u001b[0m\u001b[1;33m\u001b[0m\u001b[0m\n",
      "\u001b[1;32m~\\Anaconda3\\envs\\SoundRecognition\\lib\\site-packages\\tensorflow_core\\python\\eager\\function.py\u001b[0m in \u001b[0;36m_call_flat\u001b[1;34m(self, args, captured_inputs, cancellation_manager)\u001b[0m\n\u001b[0;32m   1222\u001b[0m     \u001b[1;32mif\u001b[0m \u001b[0mexecuting_eagerly\u001b[0m\u001b[1;33m:\u001b[0m\u001b[1;33m\u001b[0m\u001b[1;33m\u001b[0m\u001b[0m\n\u001b[0;32m   1223\u001b[0m       flat_outputs = forward_function.call(\n\u001b[1;32m-> 1224\u001b[1;33m           ctx, args, cancellation_manager=cancellation_manager)\n\u001b[0m\u001b[0;32m   1225\u001b[0m     \u001b[1;32melse\u001b[0m\u001b[1;33m:\u001b[0m\u001b[1;33m\u001b[0m\u001b[1;33m\u001b[0m\u001b[0m\n\u001b[0;32m   1226\u001b[0m       \u001b[0mgradient_name\u001b[0m \u001b[1;33m=\u001b[0m \u001b[0mself\u001b[0m\u001b[1;33m.\u001b[0m\u001b[0m_delayed_rewrite_functions\u001b[0m\u001b[1;33m.\u001b[0m\u001b[0mregister\u001b[0m\u001b[1;33m(\u001b[0m\u001b[1;33m)\u001b[0m\u001b[1;33m\u001b[0m\u001b[1;33m\u001b[0m\u001b[0m\n",
      "\u001b[1;32m~\\Anaconda3\\envs\\SoundRecognition\\lib\\site-packages\\tensorflow_core\\python\\eager\\function.py\u001b[0m in \u001b[0;36mcall\u001b[1;34m(self, ctx, args, cancellation_manager)\u001b[0m\n\u001b[0;32m    509\u001b[0m               \u001b[0minputs\u001b[0m\u001b[1;33m=\u001b[0m\u001b[0margs\u001b[0m\u001b[1;33m,\u001b[0m\u001b[1;33m\u001b[0m\u001b[1;33m\u001b[0m\u001b[0m\n\u001b[0;32m    510\u001b[0m               \u001b[0mattrs\u001b[0m\u001b[1;33m=\u001b[0m\u001b[1;33m(\u001b[0m\u001b[1;34m\"executor_type\"\u001b[0m\u001b[1;33m,\u001b[0m \u001b[0mexecutor_type\u001b[0m\u001b[1;33m,\u001b[0m \u001b[1;34m\"config_proto\"\u001b[0m\u001b[1;33m,\u001b[0m \u001b[0mconfig\u001b[0m\u001b[1;33m)\u001b[0m\u001b[1;33m,\u001b[0m\u001b[1;33m\u001b[0m\u001b[1;33m\u001b[0m\u001b[0m\n\u001b[1;32m--> 511\u001b[1;33m               ctx=ctx)\n\u001b[0m\u001b[0;32m    512\u001b[0m         \u001b[1;32melse\u001b[0m\u001b[1;33m:\u001b[0m\u001b[1;33m\u001b[0m\u001b[1;33m\u001b[0m\u001b[0m\n\u001b[0;32m    513\u001b[0m           outputs = execute.execute_with_cancellation(\n",
      "\u001b[1;32m~\\Anaconda3\\envs\\SoundRecognition\\lib\\site-packages\\tensorflow_core\\python\\eager\\execute.py\u001b[0m in \u001b[0;36mquick_execute\u001b[1;34m(op_name, num_outputs, inputs, attrs, ctx, name)\u001b[0m\n\u001b[0;32m     65\u001b[0m     \u001b[1;32melse\u001b[0m\u001b[1;33m:\u001b[0m\u001b[1;33m\u001b[0m\u001b[1;33m\u001b[0m\u001b[0m\n\u001b[0;32m     66\u001b[0m       \u001b[0mmessage\u001b[0m \u001b[1;33m=\u001b[0m \u001b[0me\u001b[0m\u001b[1;33m.\u001b[0m\u001b[0mmessage\u001b[0m\u001b[1;33m\u001b[0m\u001b[1;33m\u001b[0m\u001b[0m\n\u001b[1;32m---> 67\u001b[1;33m     \u001b[0msix\u001b[0m\u001b[1;33m.\u001b[0m\u001b[0mraise_from\u001b[0m\u001b[1;33m(\u001b[0m\u001b[0mcore\u001b[0m\u001b[1;33m.\u001b[0m\u001b[0m_status_to_exception\u001b[0m\u001b[1;33m(\u001b[0m\u001b[0me\u001b[0m\u001b[1;33m.\u001b[0m\u001b[0mcode\u001b[0m\u001b[1;33m,\u001b[0m \u001b[0mmessage\u001b[0m\u001b[1;33m)\u001b[0m\u001b[1;33m,\u001b[0m \u001b[1;32mNone\u001b[0m\u001b[1;33m)\u001b[0m\u001b[1;33m\u001b[0m\u001b[1;33m\u001b[0m\u001b[0m\n\u001b[0m\u001b[0;32m     68\u001b[0m   \u001b[1;32mexcept\u001b[0m \u001b[0mTypeError\u001b[0m \u001b[1;32mas\u001b[0m \u001b[0me\u001b[0m\u001b[1;33m:\u001b[0m\u001b[1;33m\u001b[0m\u001b[1;33m\u001b[0m\u001b[0m\n\u001b[0;32m     69\u001b[0m     keras_symbolic_tensors = [\n",
      "\u001b[1;32m~\\Anaconda3\\envs\\SoundRecognition\\lib\\site-packages\\six.py\u001b[0m in \u001b[0;36mraise_from\u001b[1;34m(value, from_value)\u001b[0m\n",
      "\u001b[1;31mInvalidArgumentError\u001b[0m:  Received a label value of 1 which is outside the valid range of [0, 1).  Label values: 1\n\t [[node loss/dense_7_loss/SparseSoftmaxCrossEntropyWithLogits/SparseSoftmaxCrossEntropyWithLogits (defined at C:\\Users\\misai\\Anaconda3\\envs\\SoundRecognition\\lib\\site-packages\\tensorflow_core\\python\\framework\\ops.py:1751) ]] [Op:__inference_distributed_function_104833]\n\nFunction call stack:\ndistributed_function\n"
     ]
    }
   ],
   "source": [
    "model.fit(train_dataset, epochs=10, validation_data=val_dataset)"
   ]
  },
  {
   "cell_type": "code",
   "execution_count": 54,
   "metadata": {},
   "outputs": [
    {
     "data": {
      "text/plain": [
       "array([[0.]], dtype=float32)"
      ]
     },
     "execution_count": 54,
     "metadata": {},
     "output_type": "execute_result"
    }
   ],
   "source": [
    "model.predict(save_1.values[32].reshape(1, 20))"
   ]
  },
  {
   "cell_type": "code",
   "execution_count": 48,
   "metadata": {},
   "outputs": [
    {
     "data": {
      "text/plain": [
       "array([[-301.46695   ],\n",
       "       [ 102.895096  ],\n",
       "       [   7.2665424 ],\n",
       "       [  33.10264   ],\n",
       "       [   2.9483023 ],\n",
       "       [   4.9492803 ],\n",
       "       [ -14.442509  ],\n",
       "       [   3.605436  ],\n",
       "       [ -16.99623   ],\n",
       "       [   5.7312164 ],\n",
       "       [  -1.5544255 ],\n",
       "       [   0.65738374],\n",
       "       [  -6.0706964 ],\n",
       "       [  -2.1306076 ],\n",
       "       [  -5.927425  ],\n",
       "       [   5.81626   ],\n",
       "       [ -10.802134  ],\n",
       "       [  -1.5740451 ],\n",
       "       [  -6.3382063 ],\n",
       "       [  -3.1696377 ]], dtype=float32)"
      ]
     },
     "execution_count": 48,
     "metadata": {},
     "output_type": "execute_result"
    }
   ],
   "source": [
    "X_0[32].reshape((20,1))"
   ]
  }
 ],
 "metadata": {
  "kernelspec": {
   "display_name": "Python 3",
   "language": "python",
   "name": "python3"
  },
  "language_info": {
   "codemirror_mode": {
    "name": "ipython",
    "version": 3
   },
   "file_extension": ".py",
   "mimetype": "text/x-python",
   "name": "python",
   "nbconvert_exporter": "python",
   "pygments_lexer": "ipython3",
   "version": "3.7.6"
  }
 },
 "nbformat": 4,
 "nbformat_minor": 4
}
