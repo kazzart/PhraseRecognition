{
 "cells": [
  {
   "cell_type": "code",
   "execution_count": 1,
   "metadata": {},
   "outputs": [],
   "source": [
    "%matplotlib inline\n",
    "import matplotlib.pyplot as plt"
   ]
  },
  {
   "cell_type": "code",
   "execution_count": 2,
   "metadata": {},
   "outputs": [],
   "source": [
    "import librosa as li\n",
    "import librosa.display\n",
    "import numpy as np\n",
    "import IPython.display as ipd\n",
    "import os"
   ]
  },
  {
   "cell_type": "code",
   "execution_count": 3,
   "metadata": {},
   "outputs": [],
   "source": [
    "def changeSpeed(samples):\n",
    "    out = []\n",
    "    out.append(li.effects.time_stretch(samples, 1.25))\n",
    "    out.append(li.effects.time_stretch(samples, 0.75))\n",
    "    return out"
   ]
  },
  {
   "cell_type": "code",
   "execution_count": 4,
   "metadata": {},
   "outputs": [],
   "source": [
    "def changePitch(samples, rate):\n",
    "    out = []\n",
    "    out.append(li.effects.pitch_shift(samples, rate, n_steps=-1))\n",
    "    out.append(li.effects.pitch_shift(samples, rate, n_steps=1.25))\n",
    "    return out"
   ]
  },
  {
   "cell_type": "code",
   "execution_count": 5,
   "metadata": {},
   "outputs": [],
   "source": [
    "def addNoise(samples):\n",
    "    noise = np.random.randn(len(samples))\n",
    "    return [samples + 0.0025*noise]"
   ]
  },
  {
   "cell_type": "code",
   "execution_count": 6,
   "metadata": {},
   "outputs": [],
   "source": [
    "def augment(samples, rate):\n",
    "    out = [samples]\n",
    "    # out += changeSpeed(samples)\n",
    "    tmp = []\n",
    "    for sound in out:\n",
    "        tmp += changePitch(sound, rate)\n",
    "    out += tmp\n",
    "    tmp = []\n",
    "    for sound in out:\n",
    "        tmp += addNoise(sound)\n",
    "    out += tmp\n",
    "    return out"
   ]
  },
  {
   "cell_type": "code",
   "execution_count": 7,
   "metadata": {},
   "outputs": [],
   "source": [
    "def augmentAll(path):\n",
    "    paths = li.util.find_files(path)\n",
    "    for file in paths:\n",
    "        sound, rate = li.load(file, sr=None)\n",
    "        augmented = augment(sound, rate)\n",
    "        name = os.path.splitext(os.path.basename(file))[0]\n",
    "        for i in range(len(augmented)):\n",
    "            li.output.write_wav(r\"augmented\\\\\" + name + str(i) + \".wav\", augmented[i] , rate)"
   ]
  },
  {
   "cell_type": "code",
   "execution_count": 9,
   "metadata": {},
   "outputs": [],
   "source": [
    "# os.mkdir(r\"augmented\")\n",
    "augmentAll(r'orig\\Без шума\\Старт')"
   ]
  },
  {
   "cell_type": "code",
   "execution_count": null,
   "metadata": {},
   "outputs": [],
   "source": []
  }
 ],
 "metadata": {
  "kernelspec": {
   "display_name": "Python 3",
   "language": "python",
   "name": "python3"
  },
  "language_info": {
   "codemirror_mode": {
    "name": "ipython",
    "version": 3
   },
   "file_extension": ".py",
   "mimetype": "text/x-python",
   "name": "python",
   "nbconvert_exporter": "python",
   "pygments_lexer": "ipython3",
   "version": "3.7.6"
  }
 },
 "nbformat": 4,
 "nbformat_minor": 4
}
