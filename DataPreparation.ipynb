{
 "cells": [
  {
   "cell_type": "code",
   "execution_count": 2,
   "metadata": {},
   "outputs": [],
   "source": [
    "import librosa\n",
    "import numpy as np\n",
    "import IPython.display as ipd\n",
    "import os\n",
    "import pandas as pd"
   ]
  },
  {
   "cell_type": "markdown",
   "metadata": {},
   "source": [
    "## Preparing data"
   ]
  },
  {
   "cell_type": "markdown",
   "metadata": {},
   "source": [
    "#### Preparing start samples"
   ]
  },
  {
   "cell_type": "code",
   "execution_count": 8,
   "metadata": {},
   "outputs": [
    {
     "data": {
      "text/plain": [
       "(71, 20)"
      ]
     },
     "execution_count": 8,
     "metadata": {},
     "output_type": "execute_result"
    }
   ],
   "source": [
    "X_start = []\n",
    "paths = librosa.util.find_files(r'orig\\Без шума\\Старт')\n",
    "for i in paths:\n",
    "    x, sr = librosa.load(i)\n",
    "    mfcc = librosa.feature.mfcc(y=x, sr=sr, hop_length=512, n_mfcc=20)\n",
    "    mfcc = np.mean(mfcc, axis=1)\n",
    "    X_start.append(mfcc)\n",
    "y_start = np.ones(np.shape(X_start)[0])\n",
    "np.shape(X_start)"
   ]
  },
  {
   "cell_type": "markdown",
   "metadata": {},
   "source": [
    "#### Preparing other samples"
   ]
  },
  {
   "cell_type": "code",
   "execution_count": 9,
   "metadata": {},
   "outputs": [
    {
     "data": {
      "text/plain": [
       "(3359, 20)"
      ]
     },
     "execution_count": 9,
     "metadata": {},
     "output_type": "execute_result"
    }
   ],
   "source": [
    "X_other = []\n",
    "voices_path = r'audiobooks\\data\\ru_open_stt\\private_buriy_audiobooks_2\\0'\n",
    "for path in os.listdir(voices_path):\n",
    "    paths = librosa.util.find_files(voices_path + '\\\\' + path)\n",
    "    for file in paths:\n",
    "        x, sr = librosa.load(file)\n",
    "        mfcc = librosa.feature.mfcc(y=x, sr=sr, hop_length=512, n_mfcc=20)\n",
    "        mfcc = np.mean(mfcc, axis=1)\n",
    "        X_other.append(mfcc)\n",
    "y_other = np.zeros(np.shape(X_other)[0])\n",
    "np.shape(X_other)"
   ]
  },
  {
   "cell_type": "markdown",
   "metadata": {},
   "source": [
    "## Loading data"
   ]
  },
  {
   "cell_type": "markdown",
   "metadata": {},
   "source": [
    "#### Loading start samples"
   ]
  },
  {
   "cell_type": "code",
   "execution_count": null,
   "metadata": {},
   "outputs": [],
   "source": [
    "DF_start = pd.read_csv(r'data\\\\start.csv', index_col=0)\n",
    "DF_y_start = pd.read_csv(r'data\\\\start_y.csv', index_col=0)"
   ]
  },
  {
   "cell_type": "markdown",
   "metadata": {},
   "source": [
    "#### Loading other samples"
   ]
  },
  {
   "cell_type": "code",
   "execution_count": null,
   "metadata": {},
   "outputs": [],
   "source": [
    "DF_other = pd.read_csv(r'data\\\\other.csv', index_col=0)\n",
    "DF_y_other = pd.read_csv(r'data\\\\other_y.csv', index_col=0)"
   ]
  },
  {
   "cell_type": "markdown",
   "metadata": {},
   "source": [
    "## Converting data to dataframe"
   ]
  },
  {
   "cell_type": "markdown",
   "metadata": {},
   "source": [
    "#### Converting start samples"
   ]
  },
  {
   "cell_type": "code",
   "execution_count": 17,
   "metadata": {},
   "outputs": [],
   "source": [
    "DF_start = pd.DataFrame(X_start, columns=list('mfcc' + \" \" + str(i) for i in range(1, 21)))\n",
    "DF_y_start = pd.DataFrame(y_start, columns=['y'])"
   ]
  },
  {
   "cell_type": "markdown",
   "metadata": {},
   "source": [
    "#### Converting other samples"
   ]
  },
  {
   "cell_type": "code",
   "execution_count": 20,
   "metadata": {},
   "outputs": [],
   "source": [
    "DF_other = pd.DataFrame(X_other, columns=list('mfcc' + \" \" + str(i) for i in range(1, 21)))\n",
    "DF_y_other = pd.DataFrame(y_other, columns=['y'])"
   ]
  },
  {
   "cell_type": "markdown",
   "metadata": {},
   "source": [
    "## Merging samples"
   ]
  },
  {
   "cell_type": "code",
   "execution_count": 22,
   "metadata": {},
   "outputs": [],
   "source": [
    "DF_samples = DF_start.append(DF_other, ignore_index=True)\n",
    "DF_y = DF_y_start.append(DF_y_other, ignore_index=True)"
   ]
  },
  {
   "cell_type": "markdown",
   "metadata": {},
   "source": [
    "## Saving samples"
   ]
  },
  {
   "cell_type": "markdown",
   "metadata": {},
   "source": [
    "#### Saving start samples"
   ]
  },
  {
   "cell_type": "code",
   "execution_count": 13,
   "metadata": {},
   "outputs": [],
   "source": [
    "DF_start.to_csv(r\"data\\\\start.csv\")\n",
    "DF_y_start.to_csv(r\"data\\\\start_y.csv\")"
   ]
  },
  {
   "cell_type": "markdown",
   "metadata": {},
   "source": [
    "#### Saving other samples"
   ]
  },
  {
   "cell_type": "code",
   "execution_count": 14,
   "metadata": {},
   "outputs": [],
   "source": [
    "DF_other.to_csv(r\"data\\\\other.csv\")\n",
    "DF_y_other.to_csv(r\"data\\\\other_y.csv\")"
   ]
  },
  {
   "cell_type": "markdown",
   "metadata": {},
   "source": [
    "#### Saving merged samples"
   ]
  },
  {
   "cell_type": "code",
   "execution_count": 15,
   "metadata": {},
   "outputs": [],
   "source": [
    "DF_samples.to_csv(r\"data\\\\samples.csv\")\n",
    "DF_y.to_csv(r\"data\\\\samples_y.csv\")"
   ]
  }
 ],
 "metadata": {
  "kernelspec": {
   "display_name": "Python 3",
   "language": "python",
   "name": "python3"
  },
  "language_info": {
   "codemirror_mode": {
    "name": "ipython",
    "version": 3
   },
   "file_extension": ".py",
   "mimetype": "text/x-python",
   "name": "python",
   "nbconvert_exporter": "python",
   "pygments_lexer": "ipython3",
   "version": "3.7.6"
  }
 },
 "nbformat": 4,
 "nbformat_minor": 4
}
