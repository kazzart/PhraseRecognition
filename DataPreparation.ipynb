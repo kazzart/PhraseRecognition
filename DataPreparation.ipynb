{
 "cells": [
  {
   "cell_type": "code",
   "execution_count": 1,
   "metadata": {},
   "outputs": [],
   "source": [
    "import librosa\n",
    "import numpy as np\n",
    "import IPython.display as ipd\n",
    "import os\n",
    "from multiprocessing import Pool\n",
    "from multiprocessing.dummy import Pool as ThreadPool"
   ]
  },
  {
   "cell_type": "markdown",
   "metadata": {},
   "source": [
    "## Constants"
   ]
  },
  {
   "cell_type": "code",
   "execution_count": 2,
   "metadata": {},
   "outputs": [],
   "source": [
    "quantity = 64\n",
    "n_mfcc = 20\n",
    "n_threads = 32\n",
    "other_path = r'audiobooks\\data\\ru_open_stt\\private_buriy_audiobooks_2\\0'\n",
    "start_path = r'augmented'"
   ]
  },
  {
   "cell_type": "markdown",
   "metadata": {},
   "source": [
    "## Preparing data"
   ]
  },
  {
   "cell_type": "markdown",
   "metadata": {},
   "source": [
    "#### Preparing start samples"
   ]
  },
  {
   "cell_type": "code",
   "execution_count": 3,
   "metadata": {},
   "outputs": [
    {
     "name": "stdout",
     "output_type": "stream",
     "text": [
      "Wall time: 2min 8s\n"
     ]
    },
    {
     "data": {
      "text/plain": [
       "(1542, 20, 65, 1)"
      ]
     },
     "execution_count": 3,
     "metadata": {},
     "output_type": "execute_result"
    }
   ],
   "source": [
    "%%time\n",
    "def kernel(files):\n",
    "    tmp = []\n",
    "    for file in files:\n",
    "        x, sr = librosa.load(file)\n",
    "        mfcc = librosa.feature.mfcc(y=x, sr=sr, hop_length=len(x)//quantity, n_mfcc=n_mfcc)\n",
    "        tmp.append(mfcc)\n",
    "    return tmp\n",
    "\n",
    "\n",
    "files = list(os.scandir(start_path))\n",
    "files_per_thread = len(files) // n_threads \n",
    "grouped_files = []\n",
    "tmp = []\n",
    "i = 0\n",
    "for file in files:\n",
    "    tmp.append(file)\n",
    "    i += 1\n",
    "    if i >= files_per_thread:\n",
    "        grouped_files.append(tmp)\n",
    "        tmp = []\n",
    "        i = 0\n",
    "if i != 0:\n",
    "    grouped_files.append(tmp)\n",
    "\n",
    "pool = ThreadPool(n_threads)\n",
    "X_start = pool.map(kernel, grouped_files)\n",
    "pool.close()\n",
    "pool.join()\n",
    "\n",
    "X_start = [j for i in np.arange(len(X_start)) for j in X_start[i]]\n",
    "X_start = np.array(X_start).reshape(*np.shape(X_start), 1)\n",
    "y_start = np.ones(np.shape(X_start)[0])\n",
    "np.shape(X_start)"
   ]
  },
  {
   "cell_type": "markdown",
   "metadata": {},
   "source": [
    "#### Preparing other samples"
   ]
  },
  {
   "cell_type": "code",
   "execution_count": 24,
   "metadata": {},
   "outputs": [
    {
     "name": "stdout",
     "output_type": "stream",
     "text": [
      "Wall time: 1min 35s\n"
     ]
    },
    {
     "data": {
      "text/plain": [
       "(3359, 20, 65, 1)"
      ]
     },
     "execution_count": 24,
     "metadata": {},
     "output_type": "execute_result"
    }
   ],
   "source": [
    "%%time\n",
    "def kernel(folder):\n",
    "    tmp = []\n",
    "    with os.scandir(folder) as entries:\n",
    "        for entry in entries:\n",
    "            if entry.is_file():\n",
    "                x, sr = librosa.load(entry)\n",
    "                mfcc = librosa.feature.mfcc(y=x, sr=sr, hop_length=len(x)//quantity, n_mfcc=n_mfcc)\n",
    "                tmp.append(mfcc)\n",
    "    return tmp\n",
    "\n",
    "\n",
    "folders = list(os.scandir(other_path))\n",
    "pool = ThreadPool(len(folders))\n",
    "X_other = pool.map(kernel, folders)\n",
    "pool.close()\n",
    "pool.join()\n",
    "\n",
    "X_other = [j for i in np.arange(len(X_other)) for j in X_other[i]]\n",
    "X_other = np.array(X_other).reshape(*np.shape(X_other), 1)\n",
    "y_other = np.zeros(np.shape(X_other)[0])\n",
    "np.shape(X_other)"
   ]
  },
  {
   "cell_type": "markdown",
   "metadata": {},
   "source": [
    "## Loading data"
   ]
  },
  {
   "cell_type": "markdown",
   "metadata": {},
   "source": [
    "#### Loading start samples"
   ]
  },
  {
   "cell_type": "code",
   "execution_count": 24,
   "metadata": {},
   "outputs": [
    {
     "data": {
      "text/plain": [
       "(426, 20, 65, 1)"
      ]
     },
     "execution_count": 24,
     "metadata": {},
     "output_type": "execute_result"
    }
   ],
   "source": [
    "data = np.load('data/start.npz')\n",
    "X_start = data['sample']\n",
    "y_start = data['label']\n",
    "X_start.shape"
   ]
  },
  {
   "cell_type": "markdown",
   "metadata": {},
   "source": [
    "#### Loading other samples"
   ]
  },
  {
   "cell_type": "code",
   "execution_count": 4,
   "metadata": {},
   "outputs": [
    {
     "data": {
      "text/plain": [
       "(3359, 20, 65, 1)"
      ]
     },
     "execution_count": 4,
     "metadata": {},
     "output_type": "execute_result"
    }
   ],
   "source": [
    "data = np.load('data/other.npz')\n",
    "X_other = data['sample']\n",
    "y_other = data['label']\n",
    "X_other.shape"
   ]
  },
  {
   "cell_type": "markdown",
   "metadata": {},
   "source": [
    "## Merging"
   ]
  },
  {
   "cell_type": "code",
   "execution_count": 5,
   "metadata": {},
   "outputs": [
    {
     "data": {
      "text/plain": [
       "(4901, 20, 65, 1)"
      ]
     },
     "execution_count": 5,
     "metadata": {},
     "output_type": "execute_result"
    }
   ],
   "source": [
    "X = np.append(X_start, X_other, axis=0)\n",
    "Y = np.append(y_start, y_other, axis=0)\n",
    "X.shape"
   ]
  },
  {
   "cell_type": "markdown",
   "metadata": {},
   "source": [
    "## Saving samples"
   ]
  },
  {
   "cell_type": "markdown",
   "metadata": {},
   "source": [
    "#### Saving start samples"
   ]
  },
  {
   "cell_type": "code",
   "execution_count": 6,
   "metadata": {},
   "outputs": [],
   "source": [
    "np.savez_compressed('data/start', sample=X_start, label=y_start)"
   ]
  },
  {
   "cell_type": "markdown",
   "metadata": {},
   "source": [
    "#### Saving other samples"
   ]
  },
  {
   "cell_type": "code",
   "execution_count": 21,
   "metadata": {},
   "outputs": [],
   "source": [
    "np.savez_compressed('data/other', sample=X_other, label=y_other)"
   ]
  },
  {
   "cell_type": "markdown",
   "metadata": {},
   "source": [
    "#### Saving merged samples"
   ]
  },
  {
   "cell_type": "code",
   "execution_count": 7,
   "metadata": {},
   "outputs": [],
   "source": [
    "np.savez_compressed('data/merged', sample=X, label=Y)"
   ]
  }
 ],
 "metadata": {
  "kernelspec": {
   "display_name": "Python 3",
   "language": "python",
   "name": "python3"
  },
  "language_info": {
   "codemirror_mode": {
    "name": "ipython",
    "version": 3
   },
   "file_extension": ".py",
   "mimetype": "text/x-python",
   "name": "python",
   "nbconvert_exporter": "python",
   "pygments_lexer": "ipython3",
   "version": "3.7.6"
  }
 },
 "nbformat": 4,
 "nbformat_minor": 4
}
