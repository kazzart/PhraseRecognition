{
 "cells": [
  {
   "cell_type": "code",
   "execution_count": 1,
   "metadata": {},
   "outputs": [],
   "source": [
    "import librosa\n",
    "import tensorflow as tf\n",
    "import pandas as pd\n",
    "import os\n",
    "import numpy as np\n",
    "import csv\n",
    "import sklearn\n",
    "from sklearn.preprocessing import LabelEncoder, StandardScaler"
   ]
  },
  {
   "cell_type": "code",
   "execution_count": 2,
   "metadata": {},
   "outputs": [
    {
     "data": {
      "text/html": [
       "<div>\n",
       "<style scoped>\n",
       "    .dataframe tbody tr th:only-of-type {\n",
       "        vertical-align: middle;\n",
       "    }\n",
       "\n",
       "    .dataframe tbody tr th {\n",
       "        vertical-align: top;\n",
       "    }\n",
       "\n",
       "    .dataframe thead th {\n",
       "        text-align: right;\n",
       "    }\n",
       "</style>\n",
       "<table border=\"1\" class=\"dataframe\">\n",
       "  <thead>\n",
       "    <tr style=\"text-align: right;\">\n",
       "      <th></th>\n",
       "      <th>mfcc1</th>\n",
       "      <th>mfcc2</th>\n",
       "      <th>mfcc3</th>\n",
       "      <th>mfcc4</th>\n",
       "      <th>mfcc5</th>\n",
       "      <th>mfcc6</th>\n",
       "      <th>mfcc7</th>\n",
       "      <th>mfcc8</th>\n",
       "      <th>mfcc9</th>\n",
       "      <th>mfcc10</th>\n",
       "      <th>...</th>\n",
       "      <th>mfcc12</th>\n",
       "      <th>mfcc13</th>\n",
       "      <th>mfcc14</th>\n",
       "      <th>mfcc15</th>\n",
       "      <th>mfcc16</th>\n",
       "      <th>mfcc17</th>\n",
       "      <th>mfcc18</th>\n",
       "      <th>mfcc19</th>\n",
       "      <th>mfcc20</th>\n",
       "      <th>label</th>\n",
       "    </tr>\n",
       "  </thead>\n",
       "  <tbody>\n",
       "    <tr>\n",
       "      <th>0</th>\n",
       "      <td>-277.733917</td>\n",
       "      <td>86.339371</td>\n",
       "      <td>9.546512</td>\n",
       "      <td>27.260670</td>\n",
       "      <td>-1.580854</td>\n",
       "      <td>2.294679</td>\n",
       "      <td>-21.063057</td>\n",
       "      <td>-6.768252</td>\n",
       "      <td>-16.339188</td>\n",
       "      <td>3.448965</td>\n",
       "      <td>...</td>\n",
       "      <td>3.037778</td>\n",
       "      <td>-7.492875</td>\n",
       "      <td>-4.326860</td>\n",
       "      <td>-3.938323</td>\n",
       "      <td>-0.061976</td>\n",
       "      <td>-8.204380</td>\n",
       "      <td>-0.990154</td>\n",
       "      <td>-7.994271</td>\n",
       "      <td>1.662887</td>\n",
       "      <td>1</td>\n",
       "    </tr>\n",
       "    <tr>\n",
       "      <th>1</th>\n",
       "      <td>-287.441437</td>\n",
       "      <td>101.411537</td>\n",
       "      <td>9.845778</td>\n",
       "      <td>18.111303</td>\n",
       "      <td>0.953472</td>\n",
       "      <td>4.148739</td>\n",
       "      <td>-21.461174</td>\n",
       "      <td>3.548748</td>\n",
       "      <td>-11.676283</td>\n",
       "      <td>1.810830</td>\n",
       "      <td>...</td>\n",
       "      <td>-2.074018</td>\n",
       "      <td>-8.954288</td>\n",
       "      <td>0.328092</td>\n",
       "      <td>-4.562632</td>\n",
       "      <td>1.470902</td>\n",
       "      <td>-8.286371</td>\n",
       "      <td>2.301535</td>\n",
       "      <td>-9.539157</td>\n",
       "      <td>-0.675301</td>\n",
       "      <td>1</td>\n",
       "    </tr>\n",
       "    <tr>\n",
       "      <th>2</th>\n",
       "      <td>-292.986938</td>\n",
       "      <td>82.176956</td>\n",
       "      <td>5.167122</td>\n",
       "      <td>21.194120</td>\n",
       "      <td>0.813181</td>\n",
       "      <td>-5.446115</td>\n",
       "      <td>-21.213644</td>\n",
       "      <td>1.445883</td>\n",
       "      <td>-20.313686</td>\n",
       "      <td>4.439660</td>\n",
       "      <td>...</td>\n",
       "      <td>-7.161251</td>\n",
       "      <td>-7.837586</td>\n",
       "      <td>-1.914691</td>\n",
       "      <td>-7.601760</td>\n",
       "      <td>4.359953</td>\n",
       "      <td>-6.932133</td>\n",
       "      <td>1.251793</td>\n",
       "      <td>-9.683861</td>\n",
       "      <td>2.710422</td>\n",
       "      <td>1</td>\n",
       "    </tr>\n",
       "    <tr>\n",
       "      <th>3</th>\n",
       "      <td>-346.349396</td>\n",
       "      <td>87.389915</td>\n",
       "      <td>6.518008</td>\n",
       "      <td>32.118923</td>\n",
       "      <td>7.091322</td>\n",
       "      <td>7.577812</td>\n",
       "      <td>-9.028165</td>\n",
       "      <td>3.232435</td>\n",
       "      <td>-14.420412</td>\n",
       "      <td>1.227081</td>\n",
       "      <td>...</td>\n",
       "      <td>-0.470023</td>\n",
       "      <td>-5.447875</td>\n",
       "      <td>-4.820985</td>\n",
       "      <td>-7.377941</td>\n",
       "      <td>4.934337</td>\n",
       "      <td>-7.918896</td>\n",
       "      <td>1.951608</td>\n",
       "      <td>-4.963387</td>\n",
       "      <td>0.465101</td>\n",
       "      <td>1</td>\n",
       "    </tr>\n",
       "    <tr>\n",
       "      <th>4</th>\n",
       "      <td>-294.494385</td>\n",
       "      <td>105.387321</td>\n",
       "      <td>7.765578</td>\n",
       "      <td>26.102627</td>\n",
       "      <td>-1.669517</td>\n",
       "      <td>0.338463</td>\n",
       "      <td>-13.264831</td>\n",
       "      <td>-0.415343</td>\n",
       "      <td>-22.268671</td>\n",
       "      <td>1.310189</td>\n",
       "      <td>...</td>\n",
       "      <td>4.397021</td>\n",
       "      <td>-5.446568</td>\n",
       "      <td>1.281793</td>\n",
       "      <td>-4.447605</td>\n",
       "      <td>3.846651</td>\n",
       "      <td>-5.282495</td>\n",
       "      <td>1.596916</td>\n",
       "      <td>-1.231996</td>\n",
       "      <td>-0.254810</td>\n",
       "      <td>1</td>\n",
       "    </tr>\n",
       "  </tbody>\n",
       "</table>\n",
       "<p>5 rows × 21 columns</p>\n",
       "</div>"
      ],
      "text/plain": [
       "        mfcc1       mfcc2     mfcc3      mfcc4     mfcc5     mfcc6      mfcc7  \\\n",
       "0 -277.733917   86.339371  9.546512  27.260670 -1.580854  2.294679 -21.063057   \n",
       "1 -287.441437  101.411537  9.845778  18.111303  0.953472  4.148739 -21.461174   \n",
       "2 -292.986938   82.176956  5.167122  21.194120  0.813181 -5.446115 -21.213644   \n",
       "3 -346.349396   87.389915  6.518008  32.118923  7.091322  7.577812  -9.028165   \n",
       "4 -294.494385  105.387321  7.765578  26.102627 -1.669517  0.338463 -13.264831   \n",
       "\n",
       "      mfcc8      mfcc9    mfcc10  ...    mfcc12    mfcc13    mfcc14    mfcc15  \\\n",
       "0 -6.768252 -16.339188  3.448965  ...  3.037778 -7.492875 -4.326860 -3.938323   \n",
       "1  3.548748 -11.676283  1.810830  ... -2.074018 -8.954288  0.328092 -4.562632   \n",
       "2  1.445883 -20.313686  4.439660  ... -7.161251 -7.837586 -1.914691 -7.601760   \n",
       "3  3.232435 -14.420412  1.227081  ... -0.470023 -5.447875 -4.820985 -7.377941   \n",
       "4 -0.415343 -22.268671  1.310189  ...  4.397021 -5.446568  1.281793 -4.447605   \n",
       "\n",
       "     mfcc16    mfcc17    mfcc18    mfcc19    mfcc20  label  \n",
       "0 -0.061976 -8.204380 -0.990154 -7.994271  1.662887      1  \n",
       "1  1.470902 -8.286371  2.301535 -9.539157 -0.675301      1  \n",
       "2  4.359953 -6.932133  1.251793 -9.683861  2.710422      1  \n",
       "3  4.934337 -7.918896  1.951608 -4.963387  0.465101      1  \n",
       "4  3.846651 -5.282495  1.596916 -1.231996 -0.254810      1  \n",
       "\n",
       "[5 rows x 21 columns]"
      ]
     },
     "execution_count": 2,
     "metadata": {},
     "output_type": "execute_result"
    }
   ],
   "source": [
    "data = pd.read_csv('data.csv')\n",
    "data.head()"
   ]
  },
  {
   "cell_type": "code",
   "execution_count": 3,
   "metadata": {},
   "outputs": [
    {
     "data": {
      "text/plain": [
       "(183, 21)"
      ]
     },
     "execution_count": 3,
     "metadata": {},
     "output_type": "execute_result"
    }
   ],
   "source": [
    "data.shape"
   ]
  },
  {
   "cell_type": "code",
   "execution_count": 4,
   "metadata": {},
   "outputs": [],
   "source": [
    "g_list = data.iloc[:, -1]"
   ]
  },
  {
   "cell_type": "code",
   "execution_count": 5,
   "metadata": {},
   "outputs": [
    {
     "data": {
      "text/plain": [
       "0      1\n",
       "1      1\n",
       "2      1\n",
       "3      1\n",
       "4      1\n",
       "      ..\n",
       "178    0\n",
       "179    0\n",
       "180    0\n",
       "181    0\n",
       "182    0\n",
       "Name: label, Length: 183, dtype: int64"
      ]
     },
     "execution_count": 5,
     "metadata": {},
     "output_type": "execute_result"
    }
   ],
   "source": [
    "g_list"
   ]
  },
  {
   "cell_type": "code",
   "execution_count": 6,
   "metadata": {},
   "outputs": [],
   "source": [
    "encoder = LabelEncoder()\n",
    "y = encoder.fit_transform(g_list)"
   ]
  },
  {
   "cell_type": "code",
   "execution_count": 7,
   "metadata": {},
   "outputs": [],
   "source": [
    "y = np.resize(y, (183,1))"
   ]
  },
  {
   "cell_type": "code",
   "execution_count": 8,
   "metadata": {},
   "outputs": [
    {
     "data": {
      "text/plain": [
       "array([[1],\n",
       "       [1],\n",
       "       [1],\n",
       "       [1],\n",
       "       [1],\n",
       "       [1],\n",
       "       [1],\n",
       "       [1],\n",
       "       [1],\n",
       "       [1],\n",
       "       [1],\n",
       "       [1],\n",
       "       [1],\n",
       "       [1],\n",
       "       [1],\n",
       "       [1],\n",
       "       [1],\n",
       "       [1],\n",
       "       [1],\n",
       "       [1],\n",
       "       [1],\n",
       "       [1],\n",
       "       [1],\n",
       "       [1],\n",
       "       [1],\n",
       "       [1],\n",
       "       [1],\n",
       "       [1],\n",
       "       [1],\n",
       "       [1],\n",
       "       [1],\n",
       "       [1],\n",
       "       [1],\n",
       "       [1],\n",
       "       [1],\n",
       "       [1],\n",
       "       [1],\n",
       "       [1],\n",
       "       [1],\n",
       "       [1],\n",
       "       [1],\n",
       "       [1],\n",
       "       [1],\n",
       "       [1],\n",
       "       [1],\n",
       "       [1],\n",
       "       [1],\n",
       "       [1],\n",
       "       [1],\n",
       "       [1],\n",
       "       [1],\n",
       "       [1],\n",
       "       [1],\n",
       "       [1],\n",
       "       [1],\n",
       "       [1],\n",
       "       [1],\n",
       "       [1],\n",
       "       [1],\n",
       "       [1],\n",
       "       [1],\n",
       "       [1],\n",
       "       [1],\n",
       "       [1],\n",
       "       [1],\n",
       "       [1],\n",
       "       [1],\n",
       "       [1],\n",
       "       [1],\n",
       "       [1],\n",
       "       [1],\n",
       "       [1],\n",
       "       [1],\n",
       "       [1],\n",
       "       [1],\n",
       "       [1],\n",
       "       [1],\n",
       "       [1],\n",
       "       [1],\n",
       "       [1],\n",
       "       [1],\n",
       "       [1],\n",
       "       [1],\n",
       "       [1],\n",
       "       [1],\n",
       "       [1],\n",
       "       [1],\n",
       "       [1],\n",
       "       [1],\n",
       "       [1],\n",
       "       [1],\n",
       "       [1],\n",
       "       [1],\n",
       "       [1],\n",
       "       [1],\n",
       "       [1],\n",
       "       [1],\n",
       "       [1],\n",
       "       [1],\n",
       "       [1],\n",
       "       [1],\n",
       "       [1],\n",
       "       [1],\n",
       "       [1],\n",
       "       [1],\n",
       "       [1],\n",
       "       [1],\n",
       "       [1],\n",
       "       [1],\n",
       "       [1],\n",
       "       [1],\n",
       "       [1],\n",
       "       [1],\n",
       "       [1],\n",
       "       [1],\n",
       "       [1],\n",
       "       [1],\n",
       "       [1],\n",
       "       [1],\n",
       "       [1],\n",
       "       [1],\n",
       "       [1],\n",
       "       [1],\n",
       "       [1],\n",
       "       [1],\n",
       "       [1],\n",
       "       [1],\n",
       "       [1],\n",
       "       [1],\n",
       "       [1],\n",
       "       [1],\n",
       "       [1],\n",
       "       [1],\n",
       "       [1],\n",
       "       [1],\n",
       "       [1],\n",
       "       [1],\n",
       "       [1],\n",
       "       [1],\n",
       "       [1],\n",
       "       [0],\n",
       "       [0],\n",
       "       [0],\n",
       "       [0],\n",
       "       [0],\n",
       "       [0],\n",
       "       [0],\n",
       "       [0],\n",
       "       [0],\n",
       "       [0],\n",
       "       [0],\n",
       "       [0],\n",
       "       [0],\n",
       "       [0],\n",
       "       [0],\n",
       "       [0],\n",
       "       [0],\n",
       "       [0],\n",
       "       [0],\n",
       "       [0],\n",
       "       [0],\n",
       "       [0],\n",
       "       [0],\n",
       "       [0],\n",
       "       [0],\n",
       "       [0],\n",
       "       [0],\n",
       "       [0],\n",
       "       [0],\n",
       "       [0],\n",
       "       [0],\n",
       "       [0],\n",
       "       [0],\n",
       "       [0],\n",
       "       [0],\n",
       "       [0],\n",
       "       [0],\n",
       "       [0],\n",
       "       [0],\n",
       "       [0],\n",
       "       [0],\n",
       "       [0],\n",
       "       [0]])"
      ]
     },
     "execution_count": 8,
     "metadata": {},
     "output_type": "execute_result"
    }
   ],
   "source": [
    "y"
   ]
  },
  {
   "cell_type": "code",
   "execution_count": 9,
   "metadata": {},
   "outputs": [
    {
     "data": {
      "text/plain": [
       "183"
      ]
     },
     "execution_count": 9,
     "metadata": {},
     "output_type": "execute_result"
    }
   ],
   "source": [
    "len(y)"
   ]
  },
  {
   "cell_type": "code",
   "execution_count": 10,
   "metadata": {},
   "outputs": [],
   "source": [
    "scaler = StandardScaler()\n",
    "X = scaler.fit_transform(np.array(data.iloc[:, :-1], dtype = float))"
   ]
  },
  {
   "cell_type": "code",
   "execution_count": 11,
   "metadata": {},
   "outputs": [
    {
     "data": {
      "text/plain": [
       "(183, 20)"
      ]
     },
     "execution_count": 11,
     "metadata": {},
     "output_type": "execute_result"
    }
   ],
   "source": [
    "X.shape"
   ]
  },
  {
   "cell_type": "code",
   "execution_count": 12,
   "metadata": {},
   "outputs": [],
   "source": [
    "label_ds = tf.data.Dataset.from_tensor_slices(y)"
   ]
  },
  {
   "cell_type": "code",
   "execution_count": 13,
   "metadata": {},
   "outputs": [
    {
     "data": {
      "text/plain": [
       "<TensorSliceDataset shapes: (1,), types: tf.int64>"
      ]
     },
     "execution_count": 13,
     "metadata": {},
     "output_type": "execute_result"
    }
   ],
   "source": [
    "label_ds"
   ]
  },
  {
   "cell_type": "code",
   "execution_count": 14,
   "metadata": {},
   "outputs": [],
   "source": [
    "example_ds = tf.data.Dataset.from_tensor_slices(X)"
   ]
  },
  {
   "cell_type": "code",
   "execution_count": 15,
   "metadata": {},
   "outputs": [
    {
     "data": {
      "text/plain": [
       "<TensorSliceDataset shapes: (20,), types: tf.float64>"
      ]
     },
     "execution_count": 15,
     "metadata": {},
     "output_type": "execute_result"
    }
   ],
   "source": [
    "example_ds"
   ]
  },
  {
   "cell_type": "code",
   "execution_count": 16,
   "metadata": {},
   "outputs": [],
   "source": [
    "train_ds = tf.data.Dataset.zip((example_ds, label_ds))"
   ]
  },
  {
   "cell_type": "code",
   "execution_count": 17,
   "metadata": {},
   "outputs": [
    {
     "data": {
      "text/plain": [
       "<ZipDataset shapes: ((20,), (1,)), types: (tf.float64, tf.int64)>"
      ]
     },
     "execution_count": 17,
     "metadata": {},
     "output_type": "execute_result"
    }
   ],
   "source": [
    "train_ds"
   ]
  },
  {
   "cell_type": "code",
   "execution_count": 18,
   "metadata": {},
   "outputs": [],
   "source": [
    "model = tf.keras.Sequential([\n",
    "    tf.keras.layers.Dense(512, activation='relu', input_shape=(20,)),\n",
    "    tf.keras.layers.Dropout(0.5),\n",
    "    tf.keras.layers.Dense(256, activation='relu'),\n",
    "    tf.keras.layers.Dropout(0.5),\n",
    "    tf.keras.layers.Dense(128, activation='relu'),\n",
    "    tf.keras.layers.Dense(2, activation='softmax'),\n",
    "])"
   ]
  },
  {
   "cell_type": "code",
   "execution_count": 19,
   "metadata": {},
   "outputs": [
    {
     "name": "stdout",
     "output_type": "stream",
     "text": [
      "Model: \"sequential\"\n",
      "_________________________________________________________________\n",
      "Layer (type)                 Output Shape              Param #   \n",
      "=================================================================\n",
      "dense (Dense)                (None, 512)               10752     \n",
      "_________________________________________________________________\n",
      "dropout (Dropout)            (None, 512)               0         \n",
      "_________________________________________________________________\n",
      "dense_1 (Dense)              (None, 256)               131328    \n",
      "_________________________________________________________________\n",
      "dropout_1 (Dropout)          (None, 256)               0         \n",
      "_________________________________________________________________\n",
      "dense_2 (Dense)              (None, 128)               32896     \n",
      "_________________________________________________________________\n",
      "dense_3 (Dense)              (None, 2)                 258       \n",
      "=================================================================\n",
      "Total params: 175,234\n",
      "Trainable params: 175,234\n",
      "Non-trainable params: 0\n",
      "_________________________________________________________________\n"
     ]
    }
   ],
   "source": [
    "model.summary()"
   ]
  },
  {
   "cell_type": "code",
   "execution_count": 20,
   "metadata": {},
   "outputs": [],
   "source": [
    "BATCH = 90"
   ]
  },
  {
   "cell_type": "code",
   "execution_count": 21,
   "metadata": {},
   "outputs": [],
   "source": [
    "train_ds = train_ds.shuffle(100).batch(BATCH).repeat()\n",
    "train_ds = train_ds.prefetch(buffer_size=tf.data.experimental.AUTOTUNE)"
   ]
  },
  {
   "cell_type": "code",
   "execution_count": 22,
   "metadata": {},
   "outputs": [],
   "source": [
    "model.compile(loss='sparse_categorical_crossentropy',\n",
    "              optimaizer='adam',\n",
    "              metrics=['accuracy'])"
   ]
  },
  {
   "cell_type": "code",
   "execution_count": 23,
   "metadata": {},
   "outputs": [
    {
     "name": "stdout",
     "output_type": "stream",
     "text": [
      "Train for 3.0 steps\n",
      "Epoch 1/3\n",
      "3/3 [==============================] - 1s 308ms/step - loss: 0.5240 - accuracy: 0.5355\n",
      "Epoch 2/3\n",
      "3/3 [==============================] - 0s 10ms/step - loss: 0.1710 - accuracy: 0.9891\n",
      "Epoch 3/3\n",
      "3/3 [==============================] - 0s 10ms/step - loss: 0.0606 - accuracy: 0.9945\n"
     ]
    }
   ],
   "source": [
    "history = model.fit(train_ds, epochs=3, steps_per_epoch=tf.math.ceil(183/BATCH))"
   ]
  },
  {
   "cell_type": "code",
   "execution_count": 30,
   "metadata": {},
   "outputs": [
    {
     "data": {
      "text/plain": [
       "array([[ 1.05034315,  1.6091292 , -0.87277177, -1.13807349, -1.76508243,\n",
       "        -0.05691587,  1.53766439, -1.73383079, -0.27009896, -1.8010528 ,\n",
       "        -0.95421129, -0.13221588, -0.15133337,  0.51859091, -1.87680655,\n",
       "        -0.5256966 , -0.76454636, -2.04567772,  1.11827389,  0.75571719]])"
      ]
     },
     "execution_count": 30,
     "metadata": {},
     "output_type": "execute_result"
    }
   ],
   "source": [
    "np.resize(X[157], (1, 20))"
   ]
  },
  {
   "cell_type": "code",
   "execution_count": 31,
   "metadata": {},
   "outputs": [
    {
     "data": {
      "text/plain": [
       "array([0])"
      ]
     },
     "execution_count": 31,
     "metadata": {},
     "output_type": "execute_result"
    }
   ],
   "source": [
    "y[157]"
   ]
  },
  {
   "cell_type": "code",
   "execution_count": 32,
   "metadata": {},
   "outputs": [
    {
     "data": {
      "text/plain": [
       "array([[0.9766194 , 0.02338053]], dtype=float32)"
      ]
     },
     "execution_count": 32,
     "metadata": {},
     "output_type": "execute_result"
    }
   ],
   "source": [
    "model.predict(np.resize(X[157], (1, 20)))"
   ]
  },
  {
   "cell_type": "code",
   "execution_count": 34,
   "metadata": {},
   "outputs": [],
   "source": [
    "model.save('Audio_Rec_v1.0.h5')"
   ]
  }
 ],
 "metadata": {
  "kernelspec": {
   "display_name": "Python 3",
   "language": "python",
   "name": "python3"
  },
  "language_info": {
   "codemirror_mode": {
    "name": "ipython",
    "version": 3
   },
   "file_extension": ".py",
   "mimetype": "text/x-python",
   "name": "python",
   "nbconvert_exporter": "python",
   "pygments_lexer": "ipython3",
   "version": "3.7.3"
  }
 },
 "nbformat": 4,
 "nbformat_minor": 4
}
