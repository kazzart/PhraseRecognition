{
 "cells": [
  {
   "cell_type": "code",
   "execution_count": 1,
   "metadata": {},
   "outputs": [],
   "source": [
    "import librosa as li\n",
    "import numpy as np\n",
    "import IPython.display as ipd\n",
    "import os\n",
    "from pydub import AudioSegment as aud\n",
    "import tensorflow as tf"
   ]
  },
  {
   "cell_type": "code",
   "execution_count": 2,
   "metadata": {},
   "outputs": [],
   "source": [
    "def get_features(path, sr=44100):\n",
    "    y = li.load(path, sr=sr)[0]\n",
    "    s = li.feature.melspectrogram(y=y, sr=sr)\n",
    "    log_s = li.power_to_db(s)\n",
    "    features = li.feature.mfcc(y=y, sr=sr, S=log_s, n_mfcc=40)\n",
    "    features = np.mean(features, axis=1)\n",
    "    return features"
   ]
  },
  {
   "cell_type": "code",
   "execution_count": 3,
   "metadata": {},
   "outputs": [],
   "source": [
    "def stretch(y):\n",
    "    faster = li.effects.time_stretch(y, 1.1)\n",
    "    slower = li.effects.time_stretch(y, 0.9)\n",
    "    return [slower, faster]"
   ]
  },
  {
   "cell_type": "code",
   "execution_count": 4,
   "metadata": {},
   "outputs": [],
   "source": [
    "def pitch_shift(y, sr):\n",
    "    y1 = li.effects.pitch_shift(y, sr, n_steps=-1)\n",
    "    y2 = li.effects.pitch_shift(y, sr, n_steps=1)\n",
    "    return [y1, y2]"
   ]
  },
  {
   "cell_type": "code",
   "execution_count": 5,
   "metadata": {},
   "outputs": [],
   "source": [
    "def add_noise(y):\n",
    "    wn = np.random.randn(len(y))\n",
    "    y_wn = y + 0.0025*wn\n",
    "    return [y_wn]"
   ]
  },
  {
   "cell_type": "code",
   "execution_count": 6,
   "metadata": {},
   "outputs": [],
   "source": [
    "def augment_data(y, sr):\n",
    "    data = [y,]\n",
    "    data += pitch_shift(y, sr)\n",
    "    new = []\n",
    "    for i in data:\n",
    "        new += stretch(i)\n",
    "    data += new\n",
    "    new = []\n",
    "    for i in data:\n",
    "        new += add_noise(i)\n",
    "    data += new\n",
    "    return data"
   ]
  },
  {
   "cell_type": "code",
   "execution_count": 7,
   "metadata": {},
   "outputs": [],
   "source": [
    "def get_data(paths):\n",
    "    data = []\n",
    "    for path in paths:\n",
    "        y, sr = li.load(path, sr=22050)\n",
    "        data += augment_data(y, sr)\n",
    "    return data"
   ]
  },
  {
   "cell_type": "code",
   "execution_count": 8,
   "metadata": {},
   "outputs": [],
   "source": [
    "def get_paths(path):\n",
    "    paths = [path + '/' + i for i in os.listdir(path)]\n",
    "    paths.sort()\n",
    "    return paths[1:]"
   ]
  },
  {
   "cell_type": "code",
   "execution_count": 9,
   "metadata": {},
   "outputs": [],
   "source": [
    "def get_labeled_data(path):\n",
    "    label = [path.split('/')[-1]]\n",
    "    data = []\n",
    "    paths = li.util.find_files(path)\n",
    "    for i in paths:\n",
    "        data.append(get_features(i))\n",
    "    return (data, label * len(paths))"
   ]
  },
  {
   "cell_type": "code",
   "execution_count": 23,
   "metadata": {},
   "outputs": [],
   "source": [
    "data, labels = get_labeled_data('/Users/dmitry/Documents/Work/ML/data/1')"
   ]
  },
  {
   "cell_type": "code",
   "execution_count": null,
   "metadata": {},
   "outputs": [],
   "source": [
    "data2, labels2 = get_labeled_data('/Users/dmitry/Documents/Work/ML/data/0')"
   ]
  },
  {
   "cell_type": "code",
   "execution_count": 142,
   "metadata": {},
   "outputs": [
    {
     "data": {
      "text/plain": [
       "4817"
      ]
     },
     "execution_count": 142,
     "metadata": {},
     "output_type": "execute_result"
    }
   ],
   "source": [
    "len(data2)"
   ]
  },
  {
   "cell_type": "code",
   "execution_count": 143,
   "metadata": {},
   "outputs": [
    {
     "name": "stdout",
     "output_type": "stream",
     "text": [
      "6000 6000\n",
      "1336 1336\n"
     ]
    }
   ],
   "source": [
    "d = data[:2000] + data2[:4000]\n",
    "l = labels[:2000] + labels2[:4000]\n",
    "vd = data[2000:] + data2[4000:]\n",
    "vl = labels[2000:] + labels2[4000:]\n",
    "print(len(d), len(l))\n",
    "print(len(vd), len(vl))"
   ]
  },
  {
   "cell_type": "code",
   "execution_count": 160,
   "metadata": {},
   "outputs": [
    {
     "data": {
      "text/plain": [
       "array([[1.],\n",
       "       [1.],\n",
       "       [1.],\n",
       "       ...,\n",
       "       [0.],\n",
       "       [0.],\n",
       "       [0.]])"
      ]
     },
     "execution_count": 160,
     "metadata": {},
     "output_type": "execute_result"
    }
   ],
   "source": [
    "ll = list(map(lambda i: float(i), vl))\n",
    "ll = np.reshape(ll, (len(vl), 1))\n",
    "ll"
   ]
  },
  {
   "cell_type": "code",
   "execution_count": 157,
   "metadata": {},
   "outputs": [],
   "source": [
    "dataset = tf.data.Dataset.from_tensor_slices((d, ll))"
   ]
  },
  {
   "cell_type": "code",
   "execution_count": 161,
   "metadata": {},
   "outputs": [
    {
     "data": {
      "text/plain": [
       "1336"
      ]
     },
     "execution_count": 161,
     "metadata": {},
     "output_type": "execute_result"
    }
   ],
   "source": [
    "len(ll)"
   ]
  },
  {
   "cell_type": "code",
   "execution_count": 158,
   "metadata": {},
   "outputs": [
    {
     "data": {
      "text/plain": [
       "(TensorSpec(shape=(40,), dtype=tf.float32, name=None),\n",
       " TensorSpec(shape=(1,), dtype=tf.float64, name=None))"
      ]
     },
     "execution_count": 158,
     "metadata": {},
     "output_type": "execute_result"
    }
   ],
   "source": [
    "dataset.element_spec"
   ]
  },
  {
   "cell_type": "code",
   "execution_count": 162,
   "metadata": {},
   "outputs": [],
   "source": [
    "dataset = dataset.repeat().shuffle(6000).batch(1500)"
   ]
  },
  {
   "cell_type": "code",
   "execution_count": 163,
   "metadata": {},
   "outputs": [
    {
     "data": {
      "text/plain": [
       "<BatchDataset shapes: ((None, 40), (None, 1)), types: (tf.float32, tf.float64)>"
      ]
     },
     "execution_count": 163,
     "metadata": {},
     "output_type": "execute_result"
    }
   ],
   "source": [
    "dataset"
   ]
  },
  {
   "cell_type": "code",
   "execution_count": 164,
   "metadata": {},
   "outputs": [],
   "source": [
    "val_dataset = tf.data.Dataset.from_tensor_slices((vd, ll))"
   ]
  },
  {
   "cell_type": "code",
   "execution_count": 169,
   "metadata": {},
   "outputs": [
    {
     "data": {
      "text/plain": [
       "(TensorSpec(shape=(40,), dtype=tf.float32, name=None),\n",
       " TensorSpec(shape=(1,), dtype=tf.float64, name=None))"
      ]
     },
     "execution_count": 169,
     "metadata": {},
     "output_type": "execute_result"
    }
   ],
   "source": [
    "val_dataset.element_spec"
   ]
  },
  {
   "cell_type": "code",
   "execution_count": 172,
   "metadata": {},
   "outputs": [
    {
     "data": {
      "text/plain": [
       "<BatchDataset shapes: ((None, 40), (None, 1)), types: (tf.float32, tf.float64)>"
      ]
     },
     "execution_count": 172,
     "metadata": {},
     "output_type": "execute_result"
    }
   ],
   "source": [
    "val_dataset"
   ]
  },
  {
   "cell_type": "code",
   "execution_count": 171,
   "metadata": {},
   "outputs": [],
   "source": [
    "val_dataset = val_dataset.shuffle(1336).batch(128)"
   ]
  },
  {
   "cell_type": "code",
   "execution_count": 223,
   "metadata": {},
   "outputs": [],
   "source": [
    "model = tf.keras.Sequential([\n",
    "    tf.keras.layers.Dense(40, activation='relu', input_shape=(40,)),\n",
    "    #tf.keras.layers.Dropout(0.5),\n",
    "    tf.keras.layers.Dense(20, activation='relu'),\n",
    "    #tf.keras.layers.Dropout(0.5),\n",
    "    tf.keras.layers.Dense(10, activation='relu'),\n",
    "    tf.keras.layers.Dense(2, activation='softmax'),\n",
    "])"
   ]
  },
  {
   "cell_type": "code",
   "execution_count": 224,
   "metadata": {},
   "outputs": [],
   "source": [
    "model.compile(loss='sparse_categorical_crossentropy',\n",
    "              optimizer='adam',\n",
    "              metrics=['accuracy'])"
   ]
  },
  {
   "cell_type": "code",
   "execution_count": 225,
   "metadata": {},
   "outputs": [
    {
     "name": "stdout",
     "output_type": "stream",
     "text": [
      "Train for 4.0 steps, validate for 10.4375 steps\n",
      "Epoch 1/10\n",
      "4/4 [==============================] - 1s 140ms/step - loss: 35.0001 - accuracy: 0.6038 - val_loss: 32.2372 - val_accuracy: 0.6115\n",
      "Epoch 2/10\n",
      "4/4 [==============================] - 0s 16ms/step - loss: 25.2218 - accuracy: 0.6402 - val_loss: 25.3269 - val_accuracy: 0.6115\n",
      "Epoch 3/10\n",
      "4/4 [==============================] - 0s 17ms/step - loss: 18.2345 - accuracy: 0.6578 - val_loss: 18.7903 - val_accuracy: 0.6115\n",
      "Epoch 4/10\n",
      "4/4 [==============================] - 0s 17ms/step - loss: 12.9797 - accuracy: 0.6633 - val_loss: 13.1882 - val_accuracy: 0.6115\n",
      "Epoch 5/10\n",
      "4/4 [==============================] - 0s 16ms/step - loss: 8.1448 - accuracy: 0.6657 - val_loss: 7.5799 - val_accuracy: 0.6115\n",
      "Epoch 6/10\n",
      "4/4 [==============================] - 0s 43ms/step - loss: 3.5673 - accuracy: 0.6695 - val_loss: 1.9421 - val_accuracy: 0.7186\n",
      "Epoch 7/10\n",
      "4/4 [==============================] - 0s 23ms/step - loss: 0.3625 - accuracy: 0.9157 - val_loss: 0.2210 - val_accuracy: 0.9229\n",
      "Epoch 8/10\n",
      "4/4 [==============================] - 0s 22ms/step - loss: 0.3866 - accuracy: 0.8370 - val_loss: 0.4785 - val_accuracy: 0.8061\n",
      "Epoch 9/10\n",
      "4/4 [==============================] - 0s 24ms/step - loss: 0.2424 - accuracy: 0.8967 - val_loss: 0.0448 - val_accuracy: 0.9858\n",
      "Epoch 10/10\n",
      "4/4 [==============================] - 0s 24ms/step - loss: 0.0142 - accuracy: 0.9967 - val_loss: 0.0234 - val_accuracy: 0.9925\n"
     ]
    }
   ],
   "source": [
    "history = model.fit(dataset, epochs=10, steps_per_epoch=tf.math.ceil(6000/1500), \n",
    "                    validation_data=val_dataset,\n",
    "                    validation_steps=1336/128)"
   ]
  },
  {
   "cell_type": "code",
   "execution_count": 232,
   "metadata": {},
   "outputs": [],
   "source": [
    "model.save('Feature_v4.h5')"
   ]
  },
  {
   "cell_type": "code",
   "execution_count": 236,
   "metadata": {},
   "outputs": [
    {
     "name": "stderr",
     "output_type": "stream",
     "text": [
      "/Users/dmitry/Documents/Work/ML/Feature/.venv/lib/python3.6/site-packages/librosa/core/audio.py:161: UserWarning: PySoundFile failed. Trying audioread instead.\n",
      "  warnings.warn('PySoundFile failed. Trying audioread instead.')\n"
     ]
    }
   ],
   "source": [
    "test = get_features('/Users/dmitry/Documents/Work/ML/data/0/1.wav')"
   ]
  },
  {
   "cell_type": "code",
   "execution_count": 237,
   "metadata": {},
   "outputs": [],
   "source": [
    "test = np.reshape(test, (1,40))"
   ]
  },
  {
   "cell_type": "code",
   "execution_count": 238,
   "metadata": {},
   "outputs": [
    {
     "data": {
      "text/plain": [
       "array([[9.9996805e-01, 3.1998836e-05]], dtype=float32)"
      ]
     },
     "execution_count": 238,
     "metadata": {},
     "output_type": "execute_result"
    }
   ],
   "source": [
    "model.predict(test)"
   ]
  }
 ],
 "metadata": {
  "kernelspec": {
   "display_name": ".venv",
   "language": "python",
   "name": ".venv"
  },
  "language_info": {
   "codemirror_mode": {
    "name": "ipython",
    "version": 3
   },
   "file_extension": ".py",
   "mimetype": "text/x-python",
   "name": "python",
   "nbconvert_exporter": "python",
   "pygments_lexer": "ipython3",
   "version": "3.6.8"
  }
 },
 "nbformat": 4,
 "nbformat_minor": 4
}
