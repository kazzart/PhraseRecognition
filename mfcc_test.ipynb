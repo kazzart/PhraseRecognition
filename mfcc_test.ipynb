{
 "cells": [
  {
   "cell_type": "code",
   "execution_count": 1,
   "metadata": {},
   "outputs": [],
   "source": [
    "import librosa\n",
    "import numpy as np"
   ]
  },
  {
   "cell_type": "code",
   "execution_count": 2,
   "metadata": {},
   "outputs": [],
   "source": [
    "hop_length = 512"
   ]
  },
  {
   "cell_type": "code",
   "execution_count": 9,
   "metadata": {},
   "outputs": [],
   "source": [
    "x1, sr1 = librosa.load('Агапова.wav')"
   ]
  },
  {
   "cell_type": "code",
   "execution_count": 16,
   "metadata": {},
   "outputs": [],
   "source": [
    "x2, sr2 = librosa.load('Гордеев.wav')"
   ]
  },
  {
   "cell_type": "code",
   "execution_count": 17,
   "metadata": {},
   "outputs": [],
   "source": [
    "x3, sr3 = librosa.load('Idubbbz I Have Osteoporosis-dKT2CdxeIFk.wav')"
   ]
  },
  {
   "cell_type": "code",
   "execution_count": 22,
   "metadata": {},
   "outputs": [],
   "source": [
    "mfcc1 = librosa.feature.mfcc(y=x1, sr=sr1, hop_length=hop_length, n_mfcc=20)"
   ]
  },
  {
   "cell_type": "code",
   "execution_count": 23,
   "metadata": {},
   "outputs": [],
   "source": [
    "mfcc2 = librosa.feature.mfcc(y=x2, sr=sr2, hop_length=hop_length, n_mfcc=20)"
   ]
  },
  {
   "cell_type": "code",
   "execution_count": 24,
   "metadata": {},
   "outputs": [],
   "source": [
    "mfcc3 = librosa.feature.mfcc(y=x3, sr=sr3, hop_length=hop_length, n_mfcc=20)"
   ]
  },
  {
   "cell_type": "code",
   "execution_count": 25,
   "metadata": {},
   "outputs": [],
   "source": [
    "mfcc1 = np.mean(mfcc1, axis=1)\n",
    "mfcc2 = np.mean(mfcc2, axis=1)\n",
    "mfcc3 = np.mean(mfcc3, axis=1)"
   ]
  },
  {
   "cell_type": "code",
   "execution_count": 26,
   "metadata": {},
   "outputs": [
    {
     "name": "stdout",
     "output_type": "stream",
     "text": [
      "[-3.4076880e+02  7.5068962e+01 -2.4498549e+00  2.1445436e+01\n",
      " -6.6604705e+00  1.3963645e+00 -2.3702692e+01  1.5587738e+01\n",
      " -5.2638521e+00  8.0587759e+00 -5.0625935e+00  5.9813914e+00\n",
      " -1.0102416e+01  2.1692533e+00  2.0534742e+00 -3.4836843e+00\n",
      "  2.9957438e-01  2.4091022e+00 -3.1649177e+00  4.1794353e+00]\n",
      "[-3.4500525e+02  1.0231636e+02  4.3417611e+00  3.1445114e+01\n",
      "  4.6986446e+00  6.9929447e+00 -1.7768011e+01  2.6637900e+00\n",
      " -1.4510248e+01  4.4197092e+00 -9.8464193e+00 -3.1995819e+00\n",
      " -1.0258574e+01 -2.5154757e-01 -2.7511351e+00 -1.3063146e+00\n",
      " -8.5768919e+00  3.6907213e+00 -4.8867269e+00  2.0793688e+00]\n",
      "[-227.06248     73.76175    -16.93759    -10.561629    -3.597217\n",
      "  -13.789698    -6.905299     2.5862055  -15.962393    10.416256\n",
      "  -11.296432     1.0213861   -3.6677506   -4.6776886   -1.5576024\n",
      "    1.1743782   -4.5054913    5.922378    -3.9573567    0.5248457]\n"
     ]
    }
   ],
   "source": [
    "# np.shape(mfcc)\n",
    "print(mfcc1)\n",
    "print(mfcc2)\n",
    "print(mfcc3)"
   ]
  },
  {
   "cell_type": "code",
   "execution_count": null,
   "metadata": {},
   "outputs": [],
   "source": []
  },
  {
   "cell_type": "code",
   "execution_count": null,
   "metadata": {},
   "outputs": [],
   "source": []
  }
 ],
 "metadata": {
  "kernelspec": {
   "display_name": "Python 3",
   "language": "python",
   "name": "python3"
  },
  "language_info": {
   "codemirror_mode": {
    "name": "ipython",
    "version": 3
   },
   "file_extension": ".py",
   "mimetype": "text/x-python",
   "name": "python",
   "nbconvert_exporter": "python",
   "pygments_lexer": "ipython3",
   "version": "3.7.6"
  }
 },
 "nbformat": 4,
 "nbformat_minor": 4
}
